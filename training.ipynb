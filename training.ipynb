{
 "cells": [
  {
   "cell_type": "markdown",
   "metadata": {},
   "source": [
    "### Functions loading"
   ]
  },
  {
   "cell_type": "code",
   "execution_count": 1,
   "metadata": {},
   "outputs": [
    {
     "name": "stdout",
     "output_type": "stream",
     "text": [
      "Files removed: 0\n"
     ]
    },
    {
     "name": "stderr",
     "output_type": "stream",
     "text": [
      "WARNING: No matching packages\n"
     ]
    }
   ],
   "source": [
    "!pip cache purge\n",
    "\n",
    "%load_ext autoreload\n",
    "%autoreload 2"
   ]
  },
  {
   "cell_type": "code",
   "execution_count": 2,
   "metadata": {},
   "outputs": [],
   "source": [
    "import json\n",
    "import numpy as np\n",
    "import sklearn\n",
    "from sklearn.model_selection import train_test_split\n",
    "import tensorflow as tf\n",
    "from tensorflow import keras\n",
    "import ast\n",
    "from models.models_true_data import *\n",
    "from models.losses import *\n",
    "from models.metric import *\n",
    "import datetime\n",
    "from utils.img_utils import draw_axis\n",
    "%matplotlib inline\n",
    "import cv2\n",
    "import pandas as pd\n",
    "import matplotlib.pyplot as plt\n",
    "import pandas as pd\n",
    "import os\n",
    "import seaborn as sns\n",
    "import argparse\n",
    "import tensorflow as tf\n",
    "import cv2\n",
    "import os\n",
    "from utils.utils import resize_preserving_ar, detect, percentage_to_pixel, get_face_points, normalize_wrt_maximum_distance_point\n",
    "from utils.img_utils import draw_key_points_pose, draw_axis\n",
    "import numpy as np\n",
    "import argparse\n",
    "import pandas as pd\n",
    "import cv2\n",
    "import tensorflow as tf\n",
    "from utils.utils import get_face_points, normalize_wrt_maximum_distance_point\n",
    "from utils.img_utils import draw_key_points_pose, draw_axis\n",
    "from utils.utils_tflite import initialize_interpreter, resize_preserving_ar, inference_interpreter, pose_from_det"
   ]
  },
  {
   "cell_type": "markdown",
   "metadata": {},
   "source": [
    "### Extracted kpts reading"
   ]
  },
  {
   "cell_type": "code",
   "execution_count": 3,
   "metadata": {},
   "outputs": [],
   "source": [
    "kpts_all_train_posenet = []\n",
    "kpts_all_test_posenet = []\n",
    "angles_all_train_posenet = []\n",
    "angles_all_test_posenet = []\n",
    "testing_participants = [\"10\", \"14\", \"16\", \"20\"]\n",
    "kpts_path = r\"kpts_extracted_posenet\"\n",
    "kpts_files = os.listdir(kpts_path)\n",
    "for k in range(len(kpts_files)):\n",
    "    if kpts_files[k][:2] not in testing_participants:\n",
    "\n",
    "        one_file = kpts_path + \"/\" + kpts_files[k]\n",
    "        df_kpts = pd.read_csv(one_file)\n",
    "        for j in range(df_kpts.shape[0]):\n",
    "            row_data = df_kpts[[\"nose\", \"leftEye\", \"rightEye\", \"leftEar\", \"rightEar\"]].iloc[j].apply(ast.literal_eval)\n",
    "            array_data = np.array(row_data.tolist())\n",
    "            face_kpt = array_data.reshape(15,)\n",
    "            mean_x = np.mean([face_kpt[i] for i in range(0, 15, 3) if face_kpt[i] != 0.0])\n",
    "            mean_y = np.mean([face_kpt[i + 1] for i in range(0, 15, 3) if face_kpt[i + 1] != 0.0])\n",
    "            face_kpt_normalized = np.array(normalize_wrt_maximum_distance_point(face_kpt, mean_x, mean_y))\n",
    "            input_kpts = tf.cast(np.expand_dims(face_kpt_normalized, 0), tf.float32)\n",
    "            kpts_all_train_posenet.append(input_kpts)\n",
    "\n",
    "            row_data = ast.literal_eval(df_kpts['head_ypr'].iloc[j])\n",
    "            \n",
    "            angles_all_train_posenet.append(tf.cast(np.expand_dims(row_data, 0), tf.float32))\n",
    "\n",
    "    else:\n",
    "        one_file = kpts_path + \"/\" + kpts_files[k]\n",
    "        df_kpts = pd.read_csv(one_file)\n",
    "        for j in range(df_kpts.shape[0]):\n",
    "            row_data = df_kpts[[\"nose\", \"leftEye\", \"rightEye\", \"leftEar\", \"rightEar\"]].iloc[j].apply(ast.literal_eval)\n",
    "            array_data = np.array(row_data.tolist())\n",
    "            face_kpt = array_data.reshape(15,)\n",
    "            mean_x = np.mean([face_kpt[i] for i in range(0, 15, 3) if face_kpt[i] != 0.0])\n",
    "            mean_y = np.mean([face_kpt[i + 1] for i in range(0, 15, 3) if face_kpt[i + 1] != 0.0])\n",
    "            face_kpt_normalized = np.array(normalize_wrt_maximum_distance_point(face_kpt, mean_x, mean_y))\n",
    "            input_kpts = tf.cast(np.expand_dims(face_kpt_normalized, 0), tf.float32)\n",
    "            kpts_all_test_posenet.append(input_kpts)\n",
    "\n",
    "            row_data = ast.literal_eval(df_kpts['head_ypr'].iloc[j])\n",
    "            \n",
    "            angles_all_test_posenet.append(tf.cast(np.expand_dims(row_data, 0), tf.float32))\n",
    "        \n",
    "\n"
   ]
  },
  {
   "cell_type": "code",
   "execution_count": 4,
   "metadata": {},
   "outputs": [],
   "source": [
    "kpts_all_train_movenet = []\n",
    "kpts_all_test_movenet = []\n",
    "angles_all_train_movenet = []\n",
    "angles_all_test_movenet = []\n",
    "testing_participants = [\"10\", \"14\", \"16\", \"20\"]\n",
    "kpts_path = r\"kpts_extracted_movenet\"\n",
    "kpts_files = os.listdir(kpts_path)\n",
    "for k in range(len(kpts_files)):\n",
    "    if kpts_files[k][:2] not in testing_participants:\n",
    "\n",
    "        one_file = kpts_path + \"/\" + kpts_files[k]\n",
    "        df_kpts = pd.read_csv(one_file)\n",
    "        for j in range(df_kpts.shape[0]):\n",
    "            row_data = df_kpts[[\"nose\", \"leftEye\", \"rightEye\", \"leftEar\", \"rightEar\"]].iloc[j].apply(ast.literal_eval)\n",
    "            array_data = np.array(row_data.tolist())\n",
    "            face_kpt = array_data.reshape(15,)\n",
    "            mean_x = np.mean([face_kpt[i] for i in range(0, 15, 3) if face_kpt[i] != 0.0])\n",
    "            mean_y = np.mean([face_kpt[i + 1] for i in range(0, 15, 3) if face_kpt[i + 1] != 0.0])\n",
    "            face_kpt_normalized = np.array(normalize_wrt_maximum_distance_point(face_kpt, mean_x, mean_y))\n",
    "            input_kpts = tf.cast(np.expand_dims(face_kpt_normalized, 0), tf.float32)\n",
    "            kpts_all_train_movenet.append(input_kpts)\n",
    "\n",
    "            row_data = ast.literal_eval(df_kpts['head_ypr'].iloc[j])\n",
    "            \n",
    "            angles_all_train_movenet.append(tf.cast(np.expand_dims(row_data, 0), tf.float32))\n",
    "\n",
    "    else:\n",
    "        one_file = kpts_path + \"/\" + kpts_files[k]\n",
    "        df_kpts = pd.read_csv(one_file)\n",
    "        for j in range(df_kpts.shape[0]):\n",
    "            row_data = df_kpts[[\"nose\", \"leftEye\", \"rightEye\", \"leftEar\", \"rightEar\"]].iloc[j].apply(ast.literal_eval)\n",
    "            array_data = np.array(row_data.tolist())\n",
    "            face_kpt = array_data.reshape(15,)\n",
    "            mean_x = np.mean([face_kpt[i] for i in range(0, 15, 3) if face_kpt[i] != 0.0])\n",
    "            mean_y = np.mean([face_kpt[i + 1] for i in range(0, 15, 3) if face_kpt[i + 1] != 0.0])\n",
    "            face_kpt_normalized = np.array(normalize_wrt_maximum_distance_point(face_kpt, mean_x, mean_y))\n",
    "            input_kpts = tf.cast(np.expand_dims(face_kpt_normalized, 0), tf.float32)\n",
    "            kpts_all_test_movenet.append(input_kpts)\n",
    "\n",
    "            row_data = ast.literal_eval(df_kpts['head_ypr'].iloc[j])\n",
    "            \n",
    "            angles_all_test_movenet.append(tf.cast(np.expand_dims(row_data, 0), tf.float32))\n",
    "        \n",
    "\n"
   ]
  },
  {
   "cell_type": "markdown",
   "metadata": {},
   "source": [
    "### Datasets creation"
   ]
  },
  {
   "cell_type": "code",
   "execution_count": 5,
   "metadata": {},
   "outputs": [],
   "source": [
    "kpts_train_posenet, kpts_val_posenet, angles_train_posenet, angles_val_posenet = train_test_split(kpts_all_train_posenet, angles_all_train_posenet, test_size=0.2, random_state=42)\n"
   ]
  },
  {
   "cell_type": "code",
   "execution_count": 6,
   "metadata": {},
   "outputs": [],
   "source": [
    "def convert_kpts_angles_to_dataset(kpts, angles):\n",
    "\n",
    "    x = kpts[0]\n",
    "    for i in range(1,len(kpts)):\n",
    "        x = tf.concat([x, kpts[i]], 0)\n",
    "        \n",
    "    x = tf.expand_dims(\n",
    "        x, axis = -1\n",
    "    )\n",
    "\n",
    "    y = np.array(angles)[:,0,:]\n",
    "    # for i in range(1,len(x)):\n",
    "    #     y = tf.concat([y, angles[i]], 0)\n",
    "\n",
    "\n",
    "\n",
    "    dataset = tf.data.Dataset.from_tensor_slices(({'input': x},\n",
    "    {\n",
    "        'yaw': tf.expand_dims(y[:, 0], axis = -1),   # Access first column (yaw)\n",
    "        'pitch': tf.expand_dims(y[:, 1], axis = -1), # Access second column (pitch)\n",
    "        'roll': tf.expand_dims(y[:, 2], axis = -1)  # Access third column (roll)\n",
    "    }\n",
    "))\n",
    "    return dataset"
   ]
  },
  {
   "cell_type": "code",
   "execution_count": 7,
   "metadata": {},
   "outputs": [],
   "source": [
    "train_dataset_posenet = convert_kpts_angles_to_dataset(kpts_train_posenet, angles_train_posenet)\n",
    "val_dataset_posenet = convert_kpts_angles_to_dataset(kpts_val_posenet, angles_val_posenet)\n",
    "test_dataset_posenet = convert_kpts_angles_to_dataset(kpts_all_test_posenet, angles_all_test_posenet)"
   ]
  },
  {
   "cell_type": "code",
   "execution_count": 8,
   "metadata": {},
   "outputs": [],
   "source": [
    "train_dataset_posenet = train_dataset_posenet.shuffle(buffer_size=300, reshuffle_each_iteration=True)\n",
    "BATCH_SIZE = 128\n",
    "train_dataset_posenet = train_dataset_posenet.batch(BATCH_SIZE, drop_remainder=True)\n",
    "val_dataset_posenet = val_dataset_posenet.batch(BATCH_SIZE, drop_remainder=True)\n",
    "test_dataset_posenet= test_dataset_posenet.batch(BATCH_SIZE, drop_remainder=True)"
   ]
  },
  {
   "cell_type": "code",
   "execution_count": 9,
   "metadata": {},
   "outputs": [],
   "source": [
    "def calculate_stats_in_dataset_from_kpts(data):\n",
    "    all_kpts = data[0]\n",
    "    for i in range(1,len(data)):\n",
    "        all_kpts = tf.concat([all_kpts, data[i]], 0)\n",
    "    all_kpts = np.array(all_kpts)\n",
    "    \n",
    "    new_data = all_kpts[:, [2, 5, 8, 11, 14]] #change. check alphapose keypoints labels\n",
    "    mean = np.mean(new_data)\n",
    "    var = np.std(new_data)\n",
    "    return mean, var"
   ]
  },
  {
   "cell_type": "code",
   "execution_count": 10,
   "metadata": {},
   "outputs": [
    {
     "name": "stdout",
     "output_type": "stream",
     "text": [
      "0.8333215 0.37268856\n"
     ]
    }
   ],
   "source": [
    "current_time = datetime.datetime.now()\n",
    "today = datetime.date.today()\n",
    "d1 = '' + today.strftime(\"%d-%m-%Y\") + '_' + str(current_time.hour) + '_' + str(current_time.minute)\n",
    "folder_results = r\"results/posenet_trained\"\n",
    "\n",
    "mean_uncertainty_in_dataset, std_uncertainty_in_dataset = calculate_stats_in_dataset_from_kpts(kpts_all_train_posenet)\n",
    "\n",
    "print(mean_uncertainty_in_dataset, std_uncertainty_in_dataset)\n",
    "\n",
    "log_dir = \"results/posenet_trained/logs/fit/\" + datetime.datetime.now().strftime(\"%Y%m%d-%H%M%S\")\n",
    "\n",
    "tensorboard_callback = tf.keras.callbacks.TensorBoard(log_dir=log_dir, histogram_freq=1)\n",
    "\n",
    "early_stopping_callback = keras.callbacks.EarlyStopping(\n",
    "                # Stop training when `val_loss` is no longer improving\n",
    "                monitor=\"val_loss\",\n",
    "                # \"no longer improving\" being defined as \"no better than 1e-2 less\"\n",
    "                min_delta=0.0001, # almost everythinh is an improvemente\n",
    "                # \"no longer improving\" being further defined as \"for at least 5 epochs\"\n",
    "                patience=5,\n",
    "                verbose=1,\n",
    "                restore_best_weights = False, # take the weights 5 epochs after best\n",
    "        )\n",
    "\n",
    "my_results = {}\n",
    "my_results['yaw_MAE_hpe'] = []\n",
    "my_results['pitch_MAE_hpe'] = []\n",
    "my_results['roll_MAE_hpe'] = []"
   ]
  },
  {
   "cell_type": "code",
   "execution_count": 11,
   "metadata": {},
   "outputs": [
    {
     "name": "stderr",
     "output_type": "stream",
     "text": [
      "c:\\Users\\User\\anaconda3\\envs\\Thesis\\lib\\site-packages\\keras\\src\\layers\\core\\lambda_layer.py:65: UserWarning: Do not pass an `input_shape`/`input_dim` argument to a layer. When using Sequential models, prefer using an `Input(shape)` object as the first layer in the model instead.\n",
      "  super().__init__(**kwargs)\n"
     ]
    },
    {
     "name": "stdout",
     "output_type": "stream",
     "text": [
      "WARNING:tensorflow:From c:\\Users\\User\\anaconda3\\envs\\Thesis\\lib\\site-packages\\keras\\src\\backend\\tensorflow\\core.py:204: The name tf.placeholder is deprecated. Please use tf.compat.v1.placeholder instead.\n",
      "\n"
     ]
    }
   ],
   "source": [
    "# hhp_net(mean=mean_uncertainty_in_dataset, std=std_uncertainty_in_dataset,  alpha=1)\n",
    "posenet_head = hhp_net_all_points(mean_uncertainty_in_dataset, std_uncertainty_in_dataset, a = 15, alpha=1)"
   ]
  },
  {
   "cell_type": "code",
   "execution_count": 12,
   "metadata": {},
   "outputs": [],
   "source": [
    "     \n",
    "lr_schedule = keras.optimizers.schedules.ExponentialDecay(\n",
    "        initial_learning_rate=0.001,\n",
    "        decay_steps=1000, # new\n",
    "        decay_rate=0.5,\n",
    "        staircase=True)\n",
    "\n",
    "\n",
    "posenet_head.compile(\n",
    "                optimizer=keras.optimizers.Adam(learning_rate=lr_schedule),  # Optimizer\n",
    "                # Loss function to minimize\n",
    "                loss=[Mse_loss_beta_nll(), Mse_loss_beta_nll(),\n",
    "                      Mse_loss_beta_nll()],\n",
    "                # List of metrics to monitor\n",
    "                # metrics=[keras.metrics.MeanSquaredError()],\n",
    "                metrics={'yaw'  : [Mean_Absolute_Error_HPE(), Save_Uncertainty_deg(), Angle_accuracy()],\n",
    "                         'pitch': [Mean_Absolute_Error_HPE(), Save_Uncertainty_deg(), Angle_accuracy()],\n",
    "                         'roll' : [Mean_Absolute_Error_HPE(), Save_Uncertainty_deg(), Angle_accuracy()]},\n",
    "                # metrics = {'yaw': keras.metrics.MeanSquaredError(), 'pitch': keras.metrics.MeanSquaredError(), 'roll': keras.metrics.MeanSquaredError()},\n",
    "        )\n",
    "\n",
    "#posenet_head.summary()\n"
   ]
  },
  {
   "cell_type": "markdown",
   "metadata": {},
   "source": [
    "!! warning!!! The model outputs s but when we print Save_Uncertainty_deg(), it is sigma already!!!"
   ]
  },
  {
   "cell_type": "code",
   "execution_count": 13,
   "metadata": {},
   "outputs": [
    {
     "name": "stdout",
     "output_type": "stream",
     "text": [
      "Inputs shape: (128, 15, 1)\n",
      "Yaw shape: (128, 1)\n",
      "Pitch shape: (128, 1)\n",
      "Roll shape: (128, 1)\n",
      "{'input': <tf.Tensor: shape=(128, 15, 1), dtype=float32, numpy=\n",
      "array([[[-0.1       ],\n",
      "        [ 0.78571427],\n",
      "        [ 1.        ],\n",
      "        ...,\n",
      "        [-0.9       ],\n",
      "        [ 0.42857143],\n",
      "        [ 1.        ]],\n",
      "\n",
      "       [[-0.27450982],\n",
      "        [ 0.6666667 ],\n",
      "        [ 1.        ],\n",
      "        ...,\n",
      "        [ 0.        ],\n",
      "        [ 0.        ],\n",
      "        [ 0.        ]],\n",
      "\n",
      "       [[ 0.04166667],\n",
      "        [ 1.        ],\n",
      "        [ 1.        ],\n",
      "        ...,\n",
      "        [-1.        ],\n",
      "        [ 0.16666667],\n",
      "        [ 1.        ]],\n",
      "\n",
      "       ...,\n",
      "\n",
      "       [[-0.34920636],\n",
      "        [ 0.09090909],\n",
      "        [ 1.        ],\n",
      "        ...,\n",
      "        [ 0.        ],\n",
      "        [ 0.        ],\n",
      "        [ 0.        ]],\n",
      "\n",
      "       [[ 0.05263158],\n",
      "        [ 1.        ],\n",
      "        [ 1.        ],\n",
      "        ...,\n",
      "        [-1.        ],\n",
      "        [-0.59090906],\n",
      "        [ 1.        ]],\n",
      "\n",
      "       [[-0.14035088],\n",
      "        [ 0.6666667 ],\n",
      "        [ 1.        ],\n",
      "        ...,\n",
      "        [ 0.        ],\n",
      "        [ 0.        ],\n",
      "        [ 0.        ]]], dtype=float32)>}\n",
      "{'yaw': <tf.Tensor: shape=(128, 1), dtype=float32, numpy=\n",
      "array([[-3.2903199e+00],\n",
      "       [ 7.7160368e+00],\n",
      "       [ 1.2220872e+01],\n",
      "       [-1.8359627e+01],\n",
      "       [-5.0741988e-01],\n",
      "       [-1.2637686e+01],\n",
      "       [-9.0556748e-02],\n",
      "       [ 7.0314283e+00],\n",
      "       [-5.8209262e+00],\n",
      "       [-1.1525570e+01],\n",
      "       [-1.7691345e+01],\n",
      "       [-3.0805016e+01],\n",
      "       [-7.0557690e+00],\n",
      "       [-1.0028909e+01],\n",
      "       [ 4.2147284e+00],\n",
      "       [ 1.5050337e+01],\n",
      "       [ 3.3172646e+01],\n",
      "       [ 9.2915529e-01],\n",
      "       [-1.9161324e+01],\n",
      "       [ 5.7424744e+01],\n",
      "       [ 1.1711475e+01],\n",
      "       [ 1.3576210e+01],\n",
      "       [-5.9673238e+00],\n",
      "       [-5.2798181e+00],\n",
      "       [ 2.4598472e+00],\n",
      "       [ 3.7314589e+00],\n",
      "       [-7.7087035e+00],\n",
      "       [-3.2861626e+01],\n",
      "       [-9.9591522e+00],\n",
      "       [ 1.3427834e+01],\n",
      "       [ 1.8809016e+00],\n",
      "       [ 6.7615910e+00],\n",
      "       [-1.2670060e+01],\n",
      "       [-2.2803563e-01],\n",
      "       [-3.9344158e+01],\n",
      "       [-1.0934911e+01],\n",
      "       [ 3.0833069e+01],\n",
      "       [ 6.4214545e-01],\n",
      "       [-1.1813123e+01],\n",
      "       [ 3.9628258e+01],\n",
      "       [-3.4263053e+00],\n",
      "       [ 4.0299430e+00],\n",
      "       [-1.0697219e+01],\n",
      "       [-4.4669890e+00],\n",
      "       [ 1.2699515e+00],\n",
      "       [-4.7897797e+00],\n",
      "       [-3.2036390e+00],\n",
      "       [-2.1854033e+01],\n",
      "       [ 2.0270960e+01],\n",
      "       [-1.1958251e+01],\n",
      "       [-4.7082992e+00],\n",
      "       [-7.6812401e+00],\n",
      "       [ 1.7430569e+01],\n",
      "       [ 3.2826687e+01],\n",
      "       [-9.7692614e+00],\n",
      "       [-1.7050411e+01],\n",
      "       [ 5.7827296e+00],\n",
      "       [ 6.8300996e+00],\n",
      "       [-4.5509973e+00],\n",
      "       [ 2.3742268e+00],\n",
      "       [-5.4492531e+00],\n",
      "       [-4.5676918e+01],\n",
      "       [ 1.0590398e+02],\n",
      "       [ 3.7093700e+01],\n",
      "       [-8.0964260e+00],\n",
      "       [ 8.1721288e-01],\n",
      "       [ 7.9127989e+00],\n",
      "       [ 4.3918386e+00],\n",
      "       [ 1.7488513e+00],\n",
      "       [-7.9409599e+00],\n",
      "       [-1.7721721e+00],\n",
      "       [ 1.8449718e+01],\n",
      "       [ 4.2885361e+01],\n",
      "       [ 1.6466064e+01],\n",
      "       [ 3.0310190e+01],\n",
      "       [-9.3261719e+00],\n",
      "       [-2.7168167e-01],\n",
      "       [-1.2205205e+01],\n",
      "       [-6.7979860e-01],\n",
      "       [-7.6042490e+00],\n",
      "       [-2.8820767e+00],\n",
      "       [ 3.6104224e+00],\n",
      "       [-1.6356142e+01],\n",
      "       [ 8.9336973e-01],\n",
      "       [-3.0617929e+01],\n",
      "       [ 2.5180384e+01],\n",
      "       [-1.7957548e+01],\n",
      "       [ 4.0980690e+01],\n",
      "       [-6.1528478e+00],\n",
      "       [ 3.3365841e+01],\n",
      "       [ 3.0988588e+00],\n",
      "       [-7.2615743e-01],\n",
      "       [ 9.8669615e+00],\n",
      "       [-8.1153708e+00],\n",
      "       [-1.1832875e+01],\n",
      "       [ 7.7697949e+00],\n",
      "       [ 2.8026163e+01],\n",
      "       [ 8.2091112e+00],\n",
      "       [ 6.8818612e+00],\n",
      "       [-3.3769947e+01],\n",
      "       [ 3.9357562e+00],\n",
      "       [ 1.1341297e+01],\n",
      "       [-1.2280361e+01],\n",
      "       [-3.7149723e+01],\n",
      "       [-3.1022553e+00],\n",
      "       [-3.4919412e+00],\n",
      "       [-2.7029984e+01],\n",
      "       [ 7.3481411e-01],\n",
      "       [ 6.6164684e+00],\n",
      "       [-7.6122351e+00],\n",
      "       [-5.8627076e+00],\n",
      "       [-3.6482101e+01],\n",
      "       [ 2.8224866e+00],\n",
      "       [ 3.0931881e+01],\n",
      "       [-3.3313782e+00],\n",
      "       [ 1.3413700e+01],\n",
      "       [ 1.3092304e+00],\n",
      "       [ 6.4190173e+00],\n",
      "       [-7.6629658e+00],\n",
      "       [-2.8534133e+00],\n",
      "       [-7.2393041e+00],\n",
      "       [ 2.5283875e+01],\n",
      "       [-5.0555320e+00],\n",
      "       [-2.4035875e+01],\n",
      "       [-8.9702187e+00],\n",
      "       [-5.2625480e+00],\n",
      "       [ 1.2227111e+01],\n",
      "       [-1.0780412e+01]], dtype=float32)>, 'pitch': <tf.Tensor: shape=(128, 1), dtype=float32, numpy=\n",
      "array([[  2.436279  ],\n",
      "       [ -3.1617522 ],\n",
      "       [ -3.287415  ],\n",
      "       [-32.74882   ],\n",
      "       [ -7.9175925 ],\n",
      "       [  0.13719098],\n",
      "       [ 14.462942  ],\n",
      "       [ -2.184091  ],\n",
      "       [ -2.301867  ],\n",
      "       [  9.784967  ],\n",
      "       [ -4.6339664 ],\n",
      "       [ 15.393075  ],\n",
      "       [ -3.138889  ],\n",
      "       [ -3.7096512 ],\n",
      "       [ -7.19627   ],\n",
      "       [  6.903834  ],\n",
      "       [  2.2014797 ],\n",
      "       [  3.580113  ],\n",
      "       [ -7.7147923 ],\n",
      "       [  6.197463  ],\n",
      "       [ -5.834248  ],\n",
      "       [ -4.9841623 ],\n",
      "       [  8.055875  ],\n",
      "       [-30.122416  ],\n",
      "       [ -1.4880905 ],\n",
      "       [ -3.2560995 ],\n",
      "       [ 12.013753  ],\n",
      "       [-15.181913  ],\n",
      "       [  2.7488387 ],\n",
      "       [  0.43365276],\n",
      "       [  2.6026802 ],\n",
      "       [ 16.196882  ],\n",
      "       [ 17.164577  ],\n",
      "       [  8.038524  ],\n",
      "       [ -7.416084  ],\n",
      "       [ -4.65375   ],\n",
      "       [  8.435407  ],\n",
      "       [ -0.79288   ],\n",
      "       [-13.638009  ],\n",
      "       [  0.9832947 ],\n",
      "       [ -6.8685427 ],\n",
      "       [ -2.1763132 ],\n",
      "       [ 20.806318  ],\n",
      "       [-12.049592  ],\n",
      "       [ -3.974444  ],\n",
      "       [ -2.283551  ],\n",
      "       [-16.958984  ],\n",
      "       [ 13.417165  ],\n",
      "       [ 15.526289  ],\n",
      "       [ 32.87924   ],\n",
      "       [ -0.6356681 ],\n",
      "       [ -5.6281357 ],\n",
      "       [ 10.239177  ],\n",
      "       [  0.97399807],\n",
      "       [ -0.43622363],\n",
      "       [ -2.8622217 ],\n",
      "       [ -0.73540455],\n",
      "       [  0.34984642],\n",
      "       [ -9.998788  ],\n",
      "       [ -5.9143333 ],\n",
      "       [  6.851183  ],\n",
      "       [-15.327205  ],\n",
      "       [-25.563833  ],\n",
      "       [ -0.16137788],\n",
      "       [  2.9850912 ],\n",
      "       [ -0.82022715],\n",
      "       [  0.8278155 ],\n",
      "       [ -2.7820876 ],\n",
      "       [ -0.14211169],\n",
      "       [  8.6920185 ],\n",
      "       [  5.349496  ],\n",
      "       [ 15.203751  ],\n",
      "       [  4.567157  ],\n",
      "       [  8.047157  ],\n",
      "       [ -0.73086846],\n",
      "       [ -6.858866  ],\n",
      "       [ -1.5877477 ],\n",
      "       [ -1.2507229 ],\n",
      "       [ -2.046723  ],\n",
      "       [-19.822315  ],\n",
      "       [ 14.09645   ],\n",
      "       [  1.4789999 ],\n",
      "       [  4.4542346 ],\n",
      "       [-12.92414   ],\n",
      "       [  2.5191946 ],\n",
      "       [  0.37641442],\n",
      "       [  2.7562177 ],\n",
      "       [ -3.7188168 ],\n",
      "       [ -8.990374  ],\n",
      "       [ -1.6326466 ],\n",
      "       [ 30.69122   ],\n",
      "       [ 15.359716  ],\n",
      "       [ -1.1448976 ],\n",
      "       [ -3.6950407 ],\n",
      "       [ -5.648033  ],\n",
      "       [-30.007189  ],\n",
      "       [  5.6490374 ],\n",
      "       [ -0.8442433 ],\n",
      "       [ 38.348965  ],\n",
      "       [  2.2382493 ],\n",
      "       [ -5.8158045 ],\n",
      "       [  4.2240186 ],\n",
      "       [ 26.317526  ],\n",
      "       [  0.606022  ],\n",
      "       [  0.8001386 ],\n",
      "       [  1.0403636 ],\n",
      "       [  2.8981955 ],\n",
      "       [ 24.638172  ],\n",
      "       [ 19.552803  ],\n",
      "       [ 16.182924  ],\n",
      "       [  1.4903971 ],\n",
      "       [ -3.1341493 ],\n",
      "       [  1.4645846 ],\n",
      "       [ -5.9853034 ],\n",
      "       [  0.30244753],\n",
      "       [ -0.73790926],\n",
      "       [ -1.4976504 ],\n",
      "       [ -1.9655764 ],\n",
      "       [  7.713904  ],\n",
      "       [-21.74527   ],\n",
      "       [ -4.3898344 ],\n",
      "       [ 18.438272  ],\n",
      "       [ 10.2629795 ],\n",
      "       [  7.3825855 ],\n",
      "       [ 21.09129   ],\n",
      "       [ -7.2398953 ],\n",
      "       [  1.5137249 ],\n",
      "       [ 41.537876  ]], dtype=float32)>, 'roll': <tf.Tensor: shape=(128, 1), dtype=float32, numpy=\n",
      "array([[  4.017613  ],\n",
      "       [-12.116564  ],\n",
      "       [  0.17228508],\n",
      "       [ -0.3250611 ],\n",
      "       [ 22.364582  ],\n",
      "       [-11.984166  ],\n",
      "       [-10.264707  ],\n",
      "       [ -2.0500798 ],\n",
      "       [-45.227535  ],\n",
      "       [ 36.422985  ],\n",
      "       [  6.542371  ],\n",
      "       [ -2.087263  ],\n",
      "       [ -5.291239  ],\n",
      "       [-13.5782995 ],\n",
      "       [ 23.081257  ],\n",
      "       [-24.893213  ],\n",
      "       [ -2.2865043 ],\n",
      "       [ -8.753694  ],\n",
      "       [ -9.41259   ],\n",
      "       [-10.885502  ],\n",
      "       [-47.597706  ],\n",
      "       [-15.69695   ],\n",
      "       [ -8.808696  ],\n",
      "       [ -1.4100223 ],\n",
      "       [ -0.48239455],\n",
      "       [  8.124978  ],\n",
      "       [-10.87165   ],\n",
      "       [-21.096016  ],\n",
      "       [ -6.64588   ],\n",
      "       [ 22.13028   ],\n",
      "       [-48.14451   ],\n",
      "       [ -7.432271  ],\n",
      "       [ 60.60091   ],\n",
      "       [  0.40601283],\n",
      "       [ -1.7744869 ],\n",
      "       [  2.84655   ],\n",
      "       [-19.472124  ],\n",
      "       [ -6.446862  ],\n",
      "       [ -0.4987884 ],\n",
      "       [ -2.160883  ],\n",
      "       [  0.73548293],\n",
      "       [  7.2695026 ],\n",
      "       [ 55.02777   ],\n",
      "       [-34.827595  ],\n",
      "       [  3.394609  ],\n",
      "       [ 10.1011715 ],\n",
      "       [ -2.2522569 ],\n",
      "       [ -4.0829206 ],\n",
      "       [ 56.801327  ],\n",
      "       [ 63.562786  ],\n",
      "       [  0.4351976 ],\n",
      "       [  4.0316496 ],\n",
      "       [-17.182241  ],\n",
      "       [ 21.269741  ],\n",
      "       [ -6.384856  ],\n",
      "       [  3.7717848 ],\n",
      "       [ -0.37949926],\n",
      "       [ 17.125296  ],\n",
      "       [  5.5766454 ],\n",
      "       [  7.9258676 ],\n",
      "       [  5.7751255 ],\n",
      "       [  7.8960066 ],\n",
      "       [ 37.283344  ],\n",
      "       [ -1.6035368 ],\n",
      "       [  9.373153  ],\n",
      "       [  0.20039469],\n",
      "       [ -5.442989  ],\n",
      "       [ -4.110649  ],\n",
      "       [ -0.9580271 ],\n",
      "       [ -7.1308174 ],\n",
      "       [-13.421915  ],\n",
      "       [  4.6014295 ],\n",
      "       [ 47.08154   ],\n",
      "       [  8.597255  ],\n",
      "       [ 29.212275  ],\n",
      "       [-32.879353  ],\n",
      "       [  2.8678217 ],\n",
      "       [  4.493211  ],\n",
      "       [ -4.1079793 ],\n",
      "       [-75.9185    ],\n",
      "       [  7.305391  ],\n",
      "       [ -1.5848916 ],\n",
      "       [  9.843243  ],\n",
      "       [  6.9831834 ],\n",
      "       [ 22.141321  ],\n",
      "       [ -1.8085228 ],\n",
      "       [ -9.406263  ],\n",
      "       [ 53.285664  ],\n",
      "       [-11.17991   ],\n",
      "       [ -2.12433   ],\n",
      "       [-68.30542   ],\n",
      "       [-25.847208  ],\n",
      "       [  0.34059542],\n",
      "       [ -1.7789658 ],\n",
      "       [  1.4699298 ],\n",
      "       [ 35.975193  ],\n",
      "       [ 21.709942  ],\n",
      "       [ -2.6452389 ],\n",
      "       [-31.09101   ],\n",
      "       [  2.3490872 ],\n",
      "       [ -7.7138343 ],\n",
      "       [-11.050259  ],\n",
      "       [-24.610256  ],\n",
      "       [-24.527338  ],\n",
      "       [  2.5406876 ],\n",
      "       [ -5.899479  ],\n",
      "       [  4.0912952 ],\n",
      "       [ -5.419455  ],\n",
      "       [  3.0647867 ],\n",
      "       [-87.71111   ],\n",
      "       [  1.3737298 ],\n",
      "       [ -4.190392  ],\n",
      "       [  1.8749768 ],\n",
      "       [-88.26992   ],\n",
      "       [ 12.007922  ],\n",
      "       [  1.6843033 ],\n",
      "       [  0.7312782 ],\n",
      "       [ -2.0363367 ],\n",
      "       [ 10.735794  ],\n",
      "       [ 10.109239  ],\n",
      "       [-49.52214   ],\n",
      "       [ 34.073967  ],\n",
      "       [ 17.197636  ],\n",
      "       [ 57.81973   ],\n",
      "       [ -5.6133966 ],\n",
      "       [-11.887513  ],\n",
      "       [  2.228019  ],\n",
      "       [  8.96648   ]], dtype=float32)>}\n"
     ]
    }
   ],
   "source": [
    "for batch in train_dataset_posenet.take(1):\n",
    "    inputs, targets = batch\n",
    "    print(\"Inputs shape:\", inputs['input'].shape)  # (batch_size, 15, 1)\n",
    "    print(\"Yaw shape:\", targets['yaw'].shape)     # (batch_size,)\n",
    "    print(\"Pitch shape:\", targets['pitch'].shape) # (batch_size,)\n",
    "    print(\"Roll shape:\", targets['roll'].shape)   # (batch_size,)\n",
    "    print(inputs)\n",
    "    print(targets)\n",
    "\n",
    "\n"
   ]
  },
  {
   "cell_type": "code",
   "execution_count": 14,
   "metadata": {},
   "outputs": [
    {
     "data": {
      "text/plain": [
       "<_BatchDataset element_spec=({'input': TensorSpec(shape=(128, 15, 1), dtype=tf.float32, name=None)}, {'yaw': TensorSpec(shape=(128, 1), dtype=tf.float32, name=None), 'pitch': TensorSpec(shape=(128, 1), dtype=tf.float32, name=None), 'roll': TensorSpec(shape=(128, 1), dtype=tf.float32, name=None)})>"
      ]
     },
     "execution_count": 14,
     "metadata": {},
     "output_type": "execute_result"
    }
   ],
   "source": [
    "train_dataset_posenet"
   ]
  },
  {
   "cell_type": "code",
   "execution_count": 15,
   "metadata": {},
   "outputs": [
    {
     "name": "stderr",
     "output_type": "stream",
     "text": [
      "c:\\Users\\User\\anaconda3\\envs\\Thesis\\lib\\site-packages\\keras\\src\\models\\functional.py:225: UserWarning: The structure of `inputs` doesn't match the expected structure: input. Received: the structure of inputs={'input': '*'}\n",
      "  warnings.warn(\n"
     ]
    }
   ],
   "source": [
    "for sample_batch in train_dataset_posenet.take(1):\n",
    "    posenet_head(sample_batch[0])  # Pass input data only\n"
   ]
  },
  {
   "cell_type": "code",
   "execution_count": 21,
   "metadata": {},
   "outputs": [
    {
     "name": "stdout",
     "output_type": "stream",
     "text": [
      "Epoch 1/300\n",
      "\u001b[1m669/669\u001b[0m \u001b[32m━━━━━━━━━━━━━━━━━━━━\u001b[0m\u001b[37m\u001b[0m \u001b[1m4s\u001b[0m 5ms/step - loss: 83.9765 - pitch_MAE_hpe: 8.3372 - pitch_Save_UNC: 7.5446 - pitch_angle_accuracy: 0.8358 - pitch_loss: 35.8267 - roll_MAE_hpe: 16.2393 - roll_Save_UNC: 6.0524 - roll_angle_accuracy: 0.6508 - roll_loss: 29.5733 - yaw_MAE_hpe: 13.6583 - yaw_Save_UNC: 4.6520 - yaw_angle_accuracy: 0.6657 - yaw_loss: 18.5765 - val_loss: 76.8830 - val_pitch_MAE_hpe: 8.3789 - val_pitch_Save_UNC: 20.0000 - val_pitch_angle_accuracy: 0.8358 - val_pitch_loss: 35.9566 - val_roll_MAE_hpe: 18.6241 - val_roll_Save_UNC: 20.0000 - val_roll_angle_accuracy: 0.5812 - val_roll_loss: 23.4540 - val_yaw_MAE_hpe: 13.3922 - val_yaw_Save_UNC: 20.0000 - val_yaw_angle_accuracy: 0.6689 - val_yaw_loss: 17.4724\n",
      "Epoch 2/300\n",
      "\u001b[1m669/669\u001b[0m \u001b[32m━━━━━━━━━━━━━━━━━━━━\u001b[0m\u001b[37m\u001b[0m \u001b[1m4s\u001b[0m 6ms/step - loss: 76.3817 - pitch_MAE_hpe: 8.3760 - pitch_Save_UNC: 7.4344 - pitch_angle_accuracy: 0.8346 - pitch_loss: 35.2180 - roll_MAE_hpe: 18.5175 - roll_Save_UNC: 5.4733 - roll_angle_accuracy: 0.5801 - roll_loss: 23.8027 - yaw_MAE_hpe: 13.5305 - yaw_Save_UNC: 4.5591 - yaw_angle_accuracy: 0.6694 - yaw_loss: 17.3610 - val_loss: 74.5363 - val_pitch_MAE_hpe: 8.6158 - val_pitch_Save_UNC: 20.0000 - val_pitch_angle_accuracy: 0.8265 - val_pitch_loss: 34.7014 - val_roll_MAE_hpe: 18.7132 - val_roll_Save_UNC: 20.0000 - val_roll_angle_accuracy: 0.5770 - val_roll_loss: 22.6922 - val_yaw_MAE_hpe: 13.3634 - val_yaw_Save_UNC: 20.0000 - val_yaw_angle_accuracy: 0.6700 - val_yaw_loss: 17.1427\n",
      "Epoch 3/300\n",
      "\u001b[1m669/669\u001b[0m \u001b[32m━━━━━━━━━━━━━━━━━━━━\u001b[0m\u001b[37m\u001b[0m \u001b[1m4s\u001b[0m 6ms/step - loss: 72.4005 - pitch_MAE_hpe: 9.5430 - pitch_Save_UNC: 6.7099 - pitch_angle_accuracy: 0.7995 - pitch_loss: 32.3575 - roll_MAE_hpe: 18.6247 - roll_Save_UNC: 5.4090 - roll_angle_accuracy: 0.5754 - roll_loss: 23.2041 - yaw_MAE_hpe: 13.6053 - yaw_Save_UNC: 4.4617 - yaw_angle_accuracy: 0.6681 - yaw_loss: 16.8389 - val_loss: 66.8715 - val_pitch_MAE_hpe: 14.5064 - val_pitch_Save_UNC: 20.0000 - val_pitch_angle_accuracy: 0.6510 - val_pitch_loss: 27.6961 - val_roll_MAE_hpe: 18.8512 - val_roll_Save_UNC: 20.0000 - val_roll_angle_accuracy: 0.5733 - val_roll_loss: 22.4732 - val_yaw_MAE_hpe: 13.8229 - val_yaw_Save_UNC: 20.0000 - val_yaw_angle_accuracy: 0.6571 - val_yaw_loss: 16.7022\n",
      "Epoch 4/300\n",
      "\u001b[1m669/669\u001b[0m \u001b[32m━━━━━━━━━━━━━━━━━━━━\u001b[0m\u001b[37m\u001b[0m \u001b[1m4s\u001b[0m 6ms/step - loss: 66.5505 - pitch_MAE_hpe: 14.7115 - pitch_Save_UNC: 6.0255 - pitch_angle_accuracy: 0.6487 - pitch_loss: 26.9465 - roll_MAE_hpe: 18.7289 - roll_Save_UNC: 5.3817 - roll_angle_accuracy: 0.5737 - roll_loss: 22.9816 - yaw_MAE_hpe: 13.8990 - yaw_Save_UNC: 4.4391 - yaw_angle_accuracy: 0.6589 - yaw_loss: 16.6224 - val_loss: 65.1271 - val_pitch_MAE_hpe: 15.9583 - val_pitch_Save_UNC: 20.0000 - val_pitch_angle_accuracy: 0.6208 - val_pitch_loss: 26.1400 - val_roll_MAE_hpe: 18.9287 - val_roll_Save_UNC: 20.0000 - val_roll_angle_accuracy: 0.5724 - val_roll_loss: 22.2934 - val_yaw_MAE_hpe: 13.7105 - val_yaw_Save_UNC: 20.0000 - val_yaw_angle_accuracy: 0.6591 - val_yaw_loss: 16.6936\n",
      "Epoch 5/300\n",
      "\u001b[1m669/669\u001b[0m \u001b[32m━━━━━━━━━━━━━━━━━━━━\u001b[0m\u001b[37m\u001b[0m \u001b[1m4s\u001b[0m 6ms/step - loss: 65.1538 - pitch_MAE_hpe: 15.7824 - pitch_Save_UNC: 5.8530 - pitch_angle_accuracy: 0.6255 - pitch_loss: 25.7057 - roll_MAE_hpe: 18.7375 - roll_Save_UNC: 5.3618 - roll_angle_accuracy: 0.5749 - roll_loss: 22.8341 - yaw_MAE_hpe: 13.8302 - yaw_Save_UNC: 4.4410 - yaw_angle_accuracy: 0.6608 - yaw_loss: 16.6141 - val_loss: 64.2006 - val_pitch_MAE_hpe: 16.5112 - val_pitch_Save_UNC: 20.0000 - val_pitch_angle_accuracy: 0.6159 - val_pitch_loss: 25.2957 - val_roll_MAE_hpe: 18.9612 - val_roll_Save_UNC: 20.0000 - val_roll_angle_accuracy: 0.5709 - val_roll_loss: 22.2349 - val_yaw_MAE_hpe: 13.6628 - val_yaw_Save_UNC: 20.0000 - val_yaw_angle_accuracy: 0.6599 - val_yaw_loss: 16.6700\n",
      "Epoch 6/300\n",
      "\u001b[1m669/669\u001b[0m \u001b[32m━━━━━━━━━━━━━━━━━━━━\u001b[0m\u001b[37m\u001b[0m \u001b[1m4s\u001b[0m 6ms/step - loss: 64.3702 - pitch_MAE_hpe: 16.2437 - pitch_Save_UNC: 5.7564 - pitch_angle_accuracy: 0.6222 - pitch_loss: 25.0155 - roll_MAE_hpe: 18.7110 - roll_Save_UNC: 5.3503 - roll_angle_accuracy: 0.5762 - roll_loss: 22.7802 - yaw_MAE_hpe: 13.7892 - yaw_Save_UNC: 4.4365 - yaw_angle_accuracy: 0.6622 - yaw_loss: 16.5744 - val_loss: 63.7765 - val_pitch_MAE_hpe: 16.6199 - val_pitch_Save_UNC: 20.0000 - val_pitch_angle_accuracy: 0.6178 - val_pitch_loss: 24.9087 - val_roll_MAE_hpe: 19.0301 - val_roll_Save_UNC: 20.0000 - val_roll_angle_accuracy: 0.5698 - val_roll_loss: 22.2234 - val_yaw_MAE_hpe: 13.6377 - val_yaw_Save_UNC: 20.0000 - val_yaw_angle_accuracy: 0.6607 - val_yaw_loss: 16.6444\n",
      "Epoch 7/300\n",
      "\u001b[1m669/669\u001b[0m \u001b[32m━━━━━━━━━━━━━━━━━━━━\u001b[0m\u001b[37m\u001b[0m \u001b[1m4s\u001b[0m 6ms/step - loss: 63.9622 - pitch_MAE_hpe: 16.3911 - pitch_Save_UNC: 5.7043 - pitch_angle_accuracy: 0.6233 - pitch_loss: 24.6639 - roll_MAE_hpe: 18.7445 - roll_Save_UNC: 5.3460 - roll_angle_accuracy: 0.5756 - roll_loss: 22.7431 - yaw_MAE_hpe: 13.7652 - yaw_Save_UNC: 4.4330 - yaw_angle_accuracy: 0.6624 - yaw_loss: 16.5552 - val_loss: 63.4750 - val_pitch_MAE_hpe: 16.6583 - val_pitch_Save_UNC: 20.0000 - val_pitch_angle_accuracy: 0.6197 - val_pitch_loss: 24.6494 - val_roll_MAE_hpe: 19.0789 - val_roll_Save_UNC: 20.0000 - val_roll_angle_accuracy: 0.5674 - val_roll_loss: 22.2029 - val_yaw_MAE_hpe: 13.6207 - val_yaw_Save_UNC: 20.0000 - val_yaw_angle_accuracy: 0.6613 - val_yaw_loss: 16.6227\n",
      "Epoch 8/300\n",
      "\u001b[1m669/669\u001b[0m \u001b[32m━━━━━━━━━━━━━━━━━━━━\u001b[0m\u001b[37m\u001b[0m \u001b[1m4s\u001b[0m 6ms/step - loss: 63.7006 - pitch_MAE_hpe: 16.4806 - pitch_Save_UNC: 5.6728 - pitch_angle_accuracy: 0.6236 - pitch_loss: 24.4484 - roll_MAE_hpe: 18.7544 - roll_Save_UNC: 5.3405 - roll_angle_accuracy: 0.5752 - roll_loss: 22.7145 - yaw_MAE_hpe: 13.7499 - yaw_Save_UNC: 4.4278 - yaw_angle_accuracy: 0.6624 - yaw_loss: 16.5377 - val_loss: 63.2980 - val_pitch_MAE_hpe: 16.7003 - val_pitch_Save_UNC: 20.0000 - val_pitch_angle_accuracy: 0.6205 - val_pitch_loss: 24.5117 - val_roll_MAE_hpe: 19.1023 - val_roll_Save_UNC: 20.0000 - val_roll_angle_accuracy: 0.5674 - val_roll_loss: 22.1823 - val_yaw_MAE_hpe: 13.6108 - val_yaw_Save_UNC: 20.0000 - val_yaw_angle_accuracy: 0.6618 - val_yaw_loss: 16.6041\n",
      "Epoch 9/300\n",
      "\u001b[1m669/669\u001b[0m \u001b[32m━━━━━━━━━━━━━━━━━━━━\u001b[0m\u001b[37m\u001b[0m \u001b[1m4s\u001b[0m 6ms/step - loss: 63.5482 - pitch_MAE_hpe: 16.5422 - pitch_Save_UNC: 5.6578 - pitch_angle_accuracy: 0.6239 - pitch_loss: 24.3283 - roll_MAE_hpe: 18.7499 - roll_Save_UNC: 5.3352 - roll_angle_accuracy: 0.5756 - roll_loss: 22.7103 - yaw_MAE_hpe: 13.7490 - yaw_Save_UNC: 4.4232 - yaw_angle_accuracy: 0.6624 - yaw_loss: 16.5096 - val_loss: 63.2117 - val_pitch_MAE_hpe: 16.7160 - val_pitch_Save_UNC: 20.0000 - val_pitch_angle_accuracy: 0.6217 - val_pitch_loss: 24.4462 - val_roll_MAE_hpe: 19.0994 - val_roll_Save_UNC: 20.0000 - val_roll_angle_accuracy: 0.5675 - val_roll_loss: 22.1748 - val_yaw_MAE_hpe: 13.6052 - val_yaw_Save_UNC: 20.0000 - val_yaw_angle_accuracy: 0.6619 - val_yaw_loss: 16.5906\n",
      "Epoch 10/300\n",
      "\u001b[1m669/669\u001b[0m \u001b[32m━━━━━━━━━━━━━━━━━━━━\u001b[0m\u001b[37m\u001b[0m \u001b[1m4s\u001b[0m 6ms/step - loss: 63.4672 - pitch_MAE_hpe: 16.5637 - pitch_Save_UNC: 5.6538 - pitch_angle_accuracy: 0.6239 - pitch_loss: 24.2653 - roll_MAE_hpe: 18.7511 - roll_Save_UNC: 5.3356 - roll_angle_accuracy: 0.5756 - roll_loss: 22.6951 - yaw_MAE_hpe: 13.7405 - yaw_Save_UNC: 4.4240 - yaw_angle_accuracy: 0.6626 - yaw_loss: 16.5068 - val_loss: 63.1586 - val_pitch_MAE_hpe: 16.7164 - val_pitch_Save_UNC: 20.0000 - val_pitch_angle_accuracy: 0.6226 - val_pitch_loss: 24.4053 - val_roll_MAE_hpe: 19.1036 - val_roll_Save_UNC: 20.0000 - val_roll_angle_accuracy: 0.5674 - val_roll_loss: 22.1709 - val_yaw_MAE_hpe: 13.6005 - val_yaw_Save_UNC: 20.0000 - val_yaw_angle_accuracy: 0.6619 - val_yaw_loss: 16.5824\n",
      "Epoch 11/300\n",
      "\u001b[1m669/669\u001b[0m \u001b[32m━━━━━━━━━━━━━━━━━━━━\u001b[0m\u001b[37m\u001b[0m \u001b[1m4s\u001b[0m 6ms/step - loss: 63.3981 - pitch_MAE_hpe: 16.5761 - pitch_Save_UNC: 5.6426 - pitch_angle_accuracy: 0.6245 - pitch_loss: 24.2344 - roll_MAE_hpe: 18.7555 - roll_Save_UNC: 5.3330 - roll_angle_accuracy: 0.5755 - roll_loss: 22.6845 - yaw_MAE_hpe: 13.7423 - yaw_Save_UNC: 4.4213 - yaw_angle_accuracy: 0.6625 - yaw_loss: 16.4792 - val_loss: 63.1242 - val_pitch_MAE_hpe: 16.7247 - val_pitch_Save_UNC: 20.0000 - val_pitch_angle_accuracy: 0.6226 - val_pitch_loss: 24.3792 - val_roll_MAE_hpe: 19.1082 - val_roll_Save_UNC: 20.0000 - val_roll_angle_accuracy: 0.5673 - val_roll_loss: 22.1678 - val_yaw_MAE_hpe: 13.5986 - val_yaw_Save_UNC: 20.0000 - val_yaw_angle_accuracy: 0.6618 - val_yaw_loss: 16.5772\n",
      "Epoch 12/300\n",
      "\u001b[1m669/669\u001b[0m \u001b[32m━━━━━━━━━━━━━━━━━━━━\u001b[0m\u001b[37m\u001b[0m \u001b[1m4s\u001b[0m 6ms/step - loss: 63.4080 - pitch_MAE_hpe: 16.5884 - pitch_Save_UNC: 5.6362 - pitch_angle_accuracy: 0.6247 - pitch_loss: 24.2148 - roll_MAE_hpe: 18.7634 - roll_Save_UNC: 5.3373 - roll_angle_accuracy: 0.5755 - roll_loss: 22.7077 - yaw_MAE_hpe: 13.7418 - yaw_Save_UNC: 4.4192 - yaw_angle_accuracy: 0.6627 - yaw_loss: 16.4855 - val_loss: 63.1041 - val_pitch_MAE_hpe: 16.7313 - val_pitch_Save_UNC: 20.0000 - val_pitch_angle_accuracy: 0.6229 - val_pitch_loss: 24.3652 - val_roll_MAE_hpe: 19.1027 - val_roll_Save_UNC: 20.0000 - val_roll_angle_accuracy: 0.5676 - val_roll_loss: 22.1658 - val_yaw_MAE_hpe: 13.5975 - val_yaw_Save_UNC: 20.0000 - val_yaw_angle_accuracy: 0.6619 - val_yaw_loss: 16.5731\n",
      "Epoch 13/300\n",
      "\u001b[1m669/669\u001b[0m \u001b[32m━━━━━━━━━━━━━━━━━━━━\u001b[0m\u001b[37m\u001b[0m \u001b[1m4s\u001b[0m 6ms/step - loss: 63.3344 - pitch_MAE_hpe: 16.5898 - pitch_Save_UNC: 5.6416 - pitch_angle_accuracy: 0.6249 - pitch_loss: 24.1819 - roll_MAE_hpe: 18.7576 - roll_Save_UNC: 5.3352 - roll_angle_accuracy: 0.5753 - roll_loss: 22.6772 - yaw_MAE_hpe: 13.7440 - yaw_Save_UNC: 4.4208 - yaw_angle_accuracy: 0.6626 - yaw_loss: 16.4753 - val_loss: 63.0932 - val_pitch_MAE_hpe: 16.7305 - val_pitch_Save_UNC: 20.0000 - val_pitch_angle_accuracy: 0.6230 - val_pitch_loss: 24.3567 - val_roll_MAE_hpe: 19.1018 - val_roll_Save_UNC: 20.0000 - val_roll_angle_accuracy: 0.5677 - val_roll_loss: 22.1654 - val_yaw_MAE_hpe: 13.5960 - val_yaw_Save_UNC: 20.0000 - val_yaw_angle_accuracy: 0.6618 - val_yaw_loss: 16.5711\n",
      "Epoch 14/300\n",
      "\u001b[1m669/669\u001b[0m \u001b[32m━━━━━━━━━━━━━━━━━━━━\u001b[0m\u001b[37m\u001b[0m \u001b[1m4s\u001b[0m 6ms/step - loss: 63.3679 - pitch_MAE_hpe: 16.5977 - pitch_Save_UNC: 5.6365 - pitch_angle_accuracy: 0.6247 - pitch_loss: 24.1959 - roll_MAE_hpe: 18.7599 - roll_Save_UNC: 5.3305 - roll_angle_accuracy: 0.5751 - roll_loss: 22.6995 - yaw_MAE_hpe: 13.7430 - yaw_Save_UNC: 4.4206 - yaw_angle_accuracy: 0.6625 - yaw_loss: 16.4725 - val_loss: 63.0850 - val_pitch_MAE_hpe: 16.7322 - val_pitch_Save_UNC: 20.0000 - val_pitch_angle_accuracy: 0.6232 - val_pitch_loss: 24.3506 - val_roll_MAE_hpe: 19.1028 - val_roll_Save_UNC: 20.0000 - val_roll_angle_accuracy: 0.5677 - val_roll_loss: 22.1648 - val_yaw_MAE_hpe: 13.5955 - val_yaw_Save_UNC: 20.0000 - val_yaw_angle_accuracy: 0.6618 - val_yaw_loss: 16.5697\n",
      "Epoch 15/300\n",
      "\u001b[1m669/669\u001b[0m \u001b[32m━━━━━━━━━━━━━━━━━━━━\u001b[0m\u001b[37m\u001b[0m \u001b[1m4s\u001b[0m 6ms/step - loss: 63.3075 - pitch_MAE_hpe: 16.5931 - pitch_Save_UNC: 5.6264 - pitch_angle_accuracy: 0.6252 - pitch_loss: 24.1743 - roll_MAE_hpe: 18.7608 - roll_Save_UNC: 5.3287 - roll_angle_accuracy: 0.5750 - roll_loss: 22.6635 - yaw_MAE_hpe: 13.7394 - yaw_Save_UNC: 4.4177 - yaw_angle_accuracy: 0.6628 - yaw_loss: 16.4697 - val_loss: 63.0802 - val_pitch_MAE_hpe: 16.7348 - val_pitch_Save_UNC: 20.0000 - val_pitch_angle_accuracy: 0.6231 - val_pitch_loss: 24.3467 - val_roll_MAE_hpe: 19.1024 - val_roll_Save_UNC: 20.0000 - val_roll_angle_accuracy: 0.5676 - val_roll_loss: 22.1648 - val_yaw_MAE_hpe: 13.5953 - val_yaw_Save_UNC: 20.0000 - val_yaw_angle_accuracy: 0.6619 - val_yaw_loss: 16.5687\n",
      "Epoch 16/300\n",
      "\u001b[1m669/669\u001b[0m \u001b[32m━━━━━━━━━━━━━━━━━━━━\u001b[0m\u001b[37m\u001b[0m \u001b[1m4s\u001b[0m 6ms/step - loss: 63.3384 - pitch_MAE_hpe: 16.6017 - pitch_Save_UNC: 5.6314 - pitch_angle_accuracy: 0.6249 - pitch_loss: 24.1856 - roll_MAE_hpe: 18.7630 - roll_Save_UNC: 5.3325 - roll_angle_accuracy: 0.5752 - roll_loss: 22.6735 - yaw_MAE_hpe: 13.7433 - yaw_Save_UNC: 4.4183 - yaw_angle_accuracy: 0.6625 - yaw_loss: 16.4793 - val_loss: 63.0778 - val_pitch_MAE_hpe: 16.7350 - val_pitch_Save_UNC: 20.0000 - val_pitch_angle_accuracy: 0.6231 - val_pitch_loss: 24.3444 - val_roll_MAE_hpe: 19.1018 - val_roll_Save_UNC: 20.0000 - val_roll_angle_accuracy: 0.5677 - val_roll_loss: 22.1654 - val_yaw_MAE_hpe: 13.5952 - val_yaw_Save_UNC: 20.0000 - val_yaw_angle_accuracy: 0.6619 - val_yaw_loss: 16.5680\n",
      "Epoch 17/300\n",
      "\u001b[1m669/669\u001b[0m \u001b[32m━━━━━━━━━━━━━━━━━━━━\u001b[0m\u001b[37m\u001b[0m \u001b[1m4s\u001b[0m 6ms/step - loss: 63.3165 - pitch_MAE_hpe: 16.6020 - pitch_Save_UNC: 5.6330 - pitch_angle_accuracy: 0.6250 - pitch_loss: 24.1779 - roll_MAE_hpe: 18.7609 - roll_Save_UNC: 5.3323 - roll_angle_accuracy: 0.5752 - roll_loss: 22.6651 - yaw_MAE_hpe: 13.7346 - yaw_Save_UNC: 4.4198 - yaw_angle_accuracy: 0.6628 - yaw_loss: 16.4735 - val_loss: 63.0758 - val_pitch_MAE_hpe: 16.7354 - val_pitch_Save_UNC: 20.0000 - val_pitch_angle_accuracy: 0.6230 - val_pitch_loss: 24.3429 - val_roll_MAE_hpe: 19.1018 - val_roll_Save_UNC: 20.0000 - val_roll_angle_accuracy: 0.5677 - val_roll_loss: 22.1652 - val_yaw_MAE_hpe: 13.5951 - val_yaw_Save_UNC: 20.0000 - val_yaw_angle_accuracy: 0.6619 - val_yaw_loss: 16.5677\n",
      "Epoch 18/300\n",
      "\u001b[1m669/669\u001b[0m \u001b[32m━━━━━━━━━━━━━━━━━━━━\u001b[0m\u001b[37m\u001b[0m \u001b[1m4s\u001b[0m 5ms/step - loss: 63.3344 - pitch_MAE_hpe: 16.6039 - pitch_Save_UNC: 5.6296 - pitch_angle_accuracy: 0.6249 - pitch_loss: 24.1807 - roll_MAE_hpe: 18.7609 - roll_Save_UNC: 5.3292 - roll_angle_accuracy: 0.5752 - roll_loss: 22.6702 - yaw_MAE_hpe: 13.7350 - yaw_Save_UNC: 4.4192 - yaw_angle_accuracy: 0.6629 - yaw_loss: 16.4835 - val_loss: 63.0747 - val_pitch_MAE_hpe: 16.7359 - val_pitch_Save_UNC: 20.0000 - val_pitch_angle_accuracy: 0.6230 - val_pitch_loss: 24.3420 - val_roll_MAE_hpe: 19.1017 - val_roll_Save_UNC: 20.0000 - val_roll_angle_accuracy: 0.5677 - val_roll_loss: 22.1652 - val_yaw_MAE_hpe: 13.5950 - val_yaw_Save_UNC: 20.0000 - val_yaw_angle_accuracy: 0.6620 - val_yaw_loss: 16.5675\n",
      "Epoch 19/300\n",
      "\u001b[1m669/669\u001b[0m \u001b[32m━━━━━━━━━━━━━━━━━━━━\u001b[0m\u001b[37m\u001b[0m \u001b[1m3s\u001b[0m 5ms/step - loss: 63.3356 - pitch_MAE_hpe: 16.6026 - pitch_Save_UNC: 5.6294 - pitch_angle_accuracy: 0.6249 - pitch_loss: 24.1765 - roll_MAE_hpe: 18.7577 - roll_Save_UNC: 5.3297 - roll_angle_accuracy: 0.5752 - roll_loss: 22.6780 - yaw_MAE_hpe: 13.7404 - yaw_Save_UNC: 4.4181 - yaw_angle_accuracy: 0.6627 - yaw_loss: 16.4812 - val_loss: 63.0742 - val_pitch_MAE_hpe: 16.7359 - val_pitch_Save_UNC: 20.0000 - val_pitch_angle_accuracy: 0.6230 - val_pitch_loss: 24.3415 - val_roll_MAE_hpe: 19.1016 - val_roll_Save_UNC: 20.0000 - val_roll_angle_accuracy: 0.5676 - val_roll_loss: 22.1653 - val_yaw_MAE_hpe: 13.5950 - val_yaw_Save_UNC: 20.0000 - val_yaw_angle_accuracy: 0.6620 - val_yaw_loss: 16.5674\n",
      "Epoch 20/300\n",
      "\u001b[1m669/669\u001b[0m \u001b[32m━━━━━━━━━━━━━━━━━━━━\u001b[0m\u001b[37m\u001b[0m \u001b[1m4s\u001b[0m 5ms/step - loss: 63.3102 - pitch_MAE_hpe: 16.6013 - pitch_Save_UNC: 5.6309 - pitch_angle_accuracy: 0.6248 - pitch_loss: 24.1766 - roll_MAE_hpe: 18.7619 - roll_Save_UNC: 5.3304 - roll_angle_accuracy: 0.5753 - roll_loss: 22.6594 - yaw_MAE_hpe: 13.7386 - yaw_Save_UNC: 4.4190 - yaw_angle_accuracy: 0.6628 - yaw_loss: 16.4742 - val_loss: 63.0737 - val_pitch_MAE_hpe: 16.7360 - val_pitch_Save_UNC: 20.0000 - val_pitch_angle_accuracy: 0.6230 - val_pitch_loss: 24.3411 - val_roll_MAE_hpe: 19.1017 - val_roll_Save_UNC: 20.0000 - val_roll_angle_accuracy: 0.5676 - val_roll_loss: 22.1653 - val_yaw_MAE_hpe: 13.5950 - val_yaw_Save_UNC: 20.0000 - val_yaw_angle_accuracy: 0.6620 - val_yaw_loss: 16.5673\n",
      "Epoch 21/300\n",
      "\u001b[1m669/669\u001b[0m \u001b[32m━━━━━━━━━━━━━━━━━━━━\u001b[0m\u001b[37m\u001b[0m \u001b[1m4s\u001b[0m 5ms/step - loss: 63.3190 - pitch_MAE_hpe: 16.6068 - pitch_Save_UNC: 5.6306 - pitch_angle_accuracy: 0.6249 - pitch_loss: 24.1677 - roll_MAE_hpe: 18.7653 - roll_Save_UNC: 5.3300 - roll_angle_accuracy: 0.5751 - roll_loss: 22.6579 - yaw_MAE_hpe: 13.7404 - yaw_Save_UNC: 4.4194 - yaw_angle_accuracy: 0.6628 - yaw_loss: 16.4935 - val_loss: 63.0734 - val_pitch_MAE_hpe: 16.7361 - val_pitch_Save_UNC: 20.0000 - val_pitch_angle_accuracy: 0.6230 - val_pitch_loss: 24.3409 - val_roll_MAE_hpe: 19.1017 - val_roll_Save_UNC: 20.0000 - val_roll_angle_accuracy: 0.5676 - val_roll_loss: 22.1653 - val_yaw_MAE_hpe: 13.5949 - val_yaw_Save_UNC: 20.0000 - val_yaw_angle_accuracy: 0.6620 - val_yaw_loss: 16.5672\n",
      "Epoch 22/300\n",
      "\u001b[1m669/669\u001b[0m \u001b[32m━━━━━━━━━━━━━━━━━━━━\u001b[0m\u001b[37m\u001b[0m \u001b[1m4s\u001b[0m 5ms/step - loss: 63.3132 - pitch_MAE_hpe: 16.5978 - pitch_Save_UNC: 5.6308 - pitch_angle_accuracy: 0.6251 - pitch_loss: 24.1635 - roll_MAE_hpe: 18.7493 - roll_Save_UNC: 5.3300 - roll_angle_accuracy: 0.5754 - roll_loss: 22.6798 - yaw_MAE_hpe: 13.7331 - yaw_Save_UNC: 4.4194 - yaw_angle_accuracy: 0.6630 - yaw_loss: 16.4700 - val_loss: 63.0733 - val_pitch_MAE_hpe: 16.7361 - val_pitch_Save_UNC: 20.0000 - val_pitch_angle_accuracy: 0.6230 - val_pitch_loss: 24.3408 - val_roll_MAE_hpe: 19.1016 - val_roll_Save_UNC: 20.0000 - val_roll_angle_accuracy: 0.5676 - val_roll_loss: 22.1653 - val_yaw_MAE_hpe: 13.5949 - val_yaw_Save_UNC: 20.0000 - val_yaw_angle_accuracy: 0.6620 - val_yaw_loss: 16.5672\n",
      "Epoch 23/300\n",
      "\u001b[1m669/669\u001b[0m \u001b[32m━━━━━━━━━━━━━━━━━━━━\u001b[0m\u001b[37m\u001b[0m \u001b[1m3s\u001b[0m 5ms/step - loss: 63.3150 - pitch_MAE_hpe: 16.5937 - pitch_Save_UNC: 5.6307 - pitch_angle_accuracy: 0.6250 - pitch_loss: 24.1828 - roll_MAE_hpe: 18.7576 - roll_Save_UNC: 5.3301 - roll_angle_accuracy: 0.5754 - roll_loss: 22.6634 - yaw_MAE_hpe: 13.7373 - yaw_Save_UNC: 4.4191 - yaw_angle_accuracy: 0.6627 - yaw_loss: 16.4688 - val_loss: 63.0732 - val_pitch_MAE_hpe: 16.7360 - val_pitch_Save_UNC: 20.0000 - val_pitch_angle_accuracy: 0.6230 - val_pitch_loss: 24.3407 - val_roll_MAE_hpe: 19.1016 - val_roll_Save_UNC: 20.0000 - val_roll_angle_accuracy: 0.5676 - val_roll_loss: 22.1653 - val_yaw_MAE_hpe: 13.5949 - val_yaw_Save_UNC: 20.0000 - val_yaw_angle_accuracy: 0.6620 - val_yaw_loss: 16.5672\n",
      "Epoch 24/300\n",
      "\u001b[1m669/669\u001b[0m \u001b[32m━━━━━━━━━━━━━━━━━━━━\u001b[0m\u001b[37m\u001b[0m \u001b[1m4s\u001b[0m 5ms/step - loss: 63.3141 - pitch_MAE_hpe: 16.6022 - pitch_Save_UNC: 5.6307 - pitch_angle_accuracy: 0.6248 - pitch_loss: 24.1784 - roll_MAE_hpe: 18.7661 - roll_Save_UNC: 5.3302 - roll_angle_accuracy: 0.5752 - roll_loss: 22.6759 - yaw_MAE_hpe: 13.7410 - yaw_Save_UNC: 4.4194 - yaw_angle_accuracy: 0.6627 - yaw_loss: 16.4599 - val_loss: 63.0732 - val_pitch_MAE_hpe: 16.7360 - val_pitch_Save_UNC: 20.0000 - val_pitch_angle_accuracy: 0.6230 - val_pitch_loss: 24.3407 - val_roll_MAE_hpe: 19.1016 - val_roll_Save_UNC: 20.0000 - val_roll_angle_accuracy: 0.5676 - val_roll_loss: 22.1653 - val_yaw_MAE_hpe: 13.5949 - val_yaw_Save_UNC: 20.0000 - val_yaw_angle_accuracy: 0.6620 - val_yaw_loss: 16.5671\n",
      "Epoch 25/300\n",
      "\u001b[1m669/669\u001b[0m \u001b[32m━━━━━━━━━━━━━━━━━━━━\u001b[0m\u001b[37m\u001b[0m \u001b[1m4s\u001b[0m 6ms/step - loss: 63.2880 - pitch_MAE_hpe: 16.5948 - pitch_Save_UNC: 5.6312 - pitch_angle_accuracy: 0.6250 - pitch_loss: 24.1537 - roll_MAE_hpe: 18.7586 - roll_Save_UNC: 5.3305 - roll_angle_accuracy: 0.5751 - roll_loss: 22.6603 - yaw_MAE_hpe: 13.7380 - yaw_Save_UNC: 4.4198 - yaw_angle_accuracy: 0.6629 - yaw_loss: 16.4739 - val_loss: 63.0731 - val_pitch_MAE_hpe: 16.7360 - val_pitch_Save_UNC: 20.0000 - val_pitch_angle_accuracy: 0.6230 - val_pitch_loss: 24.3407 - val_roll_MAE_hpe: 19.1016 - val_roll_Save_UNC: 20.0000 - val_roll_angle_accuracy: 0.5676 - val_roll_loss: 22.1653 - val_yaw_MAE_hpe: 13.5949 - val_yaw_Save_UNC: 20.0000 - val_yaw_angle_accuracy: 0.6620 - val_yaw_loss: 16.5671\n",
      "Epoch 26/300\n",
      "\u001b[1m669/669\u001b[0m \u001b[32m━━━━━━━━━━━━━━━━━━━━\u001b[0m\u001b[37m\u001b[0m \u001b[1m4s\u001b[0m 6ms/step - loss: 63.2883 - pitch_MAE_hpe: 16.5955 - pitch_Save_UNC: 5.6312 - pitch_angle_accuracy: 0.6250 - pitch_loss: 24.1643 - roll_MAE_hpe: 18.7603 - roll_Save_UNC: 5.3304 - roll_angle_accuracy: 0.5751 - roll_loss: 22.6536 - yaw_MAE_hpe: 13.7333 - yaw_Save_UNC: 4.4197 - yaw_angle_accuracy: 0.6629 - yaw_loss: 16.4705 - val_loss: 63.0731 - val_pitch_MAE_hpe: 16.7360 - val_pitch_Save_UNC: 20.0000 - val_pitch_angle_accuracy: 0.6230 - val_pitch_loss: 24.3407 - val_roll_MAE_hpe: 19.1016 - val_roll_Save_UNC: 20.0000 - val_roll_angle_accuracy: 0.5676 - val_roll_loss: 22.1653 - val_yaw_MAE_hpe: 13.5949 - val_yaw_Save_UNC: 20.0000 - val_yaw_angle_accuracy: 0.6620 - val_yaw_loss: 16.5671\n",
      "Epoch 27/300\n",
      "\u001b[1m669/669\u001b[0m \u001b[32m━━━━━━━━━━━━━━━━━━━━\u001b[0m\u001b[37m\u001b[0m \u001b[1m4s\u001b[0m 5ms/step - loss: 63.3422 - pitch_MAE_hpe: 16.6064 - pitch_Save_UNC: 5.6305 - pitch_angle_accuracy: 0.6248 - pitch_loss: 24.1728 - roll_MAE_hpe: 18.7655 - roll_Save_UNC: 5.3302 - roll_angle_accuracy: 0.5753 - roll_loss: 22.6835 - yaw_MAE_hpe: 13.7385 - yaw_Save_UNC: 4.4188 - yaw_angle_accuracy: 0.6627 - yaw_loss: 16.4859 - val_loss: 63.0731 - val_pitch_MAE_hpe: 16.7359 - val_pitch_Save_UNC: 20.0000 - val_pitch_angle_accuracy: 0.6230 - val_pitch_loss: 24.3406 - val_roll_MAE_hpe: 19.1016 - val_roll_Save_UNC: 20.0000 - val_roll_angle_accuracy: 0.5676 - val_roll_loss: 22.1653 - val_yaw_MAE_hpe: 13.5949 - val_yaw_Save_UNC: 20.0000 - val_yaw_angle_accuracy: 0.6620 - val_yaw_loss: 16.5671\n",
      "Epoch 28/300\n",
      "\u001b[1m669/669\u001b[0m \u001b[32m━━━━━━━━━━━━━━━━━━━━\u001b[0m\u001b[37m\u001b[0m \u001b[1m4s\u001b[0m 6ms/step - loss: 63.3385 - pitch_MAE_hpe: 16.6048 - pitch_Save_UNC: 5.6307 - pitch_angle_accuracy: 0.6246 - pitch_loss: 24.1858 - roll_MAE_hpe: 18.7626 - roll_Save_UNC: 5.3302 - roll_angle_accuracy: 0.5751 - roll_loss: 22.6756 - yaw_MAE_hpe: 13.7383 - yaw_Save_UNC: 4.4194 - yaw_angle_accuracy: 0.6628 - yaw_loss: 16.4770 - val_loss: 63.0731 - val_pitch_MAE_hpe: 16.7359 - val_pitch_Save_UNC: 20.0000 - val_pitch_angle_accuracy: 0.6230 - val_pitch_loss: 24.3406 - val_roll_MAE_hpe: 19.1016 - val_roll_Save_UNC: 20.0000 - val_roll_angle_accuracy: 0.5676 - val_roll_loss: 22.1653 - val_yaw_MAE_hpe: 13.5949 - val_yaw_Save_UNC: 20.0000 - val_yaw_angle_accuracy: 0.6620 - val_yaw_loss: 16.5671\n",
      "Epoch 29/300\n",
      "\u001b[1m669/669\u001b[0m \u001b[32m━━━━━━━━━━━━━━━━━━━━\u001b[0m\u001b[37m\u001b[0m \u001b[1m4s\u001b[0m 6ms/step - loss: 63.2840 - pitch_MAE_hpe: 16.5971 - pitch_Save_UNC: 5.6309 - pitch_angle_accuracy: 0.6250 - pitch_loss: 24.1702 - roll_MAE_hpe: 18.7530 - roll_Save_UNC: 5.3302 - roll_angle_accuracy: 0.5754 - roll_loss: 22.6585 - yaw_MAE_hpe: 13.7314 - yaw_Save_UNC: 4.4193 - yaw_angle_accuracy: 0.6631 - yaw_loss: 16.4553 - val_loss: 63.0731 - val_pitch_MAE_hpe: 16.7359 - val_pitch_Save_UNC: 20.0000 - val_pitch_angle_accuracy: 0.6230 - val_pitch_loss: 24.3406 - val_roll_MAE_hpe: 19.1016 - val_roll_Save_UNC: 20.0000 - val_roll_angle_accuracy: 0.5676 - val_roll_loss: 22.1653 - val_yaw_MAE_hpe: 13.5949 - val_yaw_Save_UNC: 20.0000 - val_yaw_angle_accuracy: 0.6620 - val_yaw_loss: 16.5671\n",
      "Epoch 29: early stopping\n"
     ]
    }
   ],
   "source": [
    "EPOCHS = 300\n",
    "history = posenet_head.fit(train_dataset_posenet, epochs=EPOCHS,\n",
    "                               callbacks=[tensorboard_callback, early_stopping_callback], validation_data=val_dataset_posenet)\n"
   ]
  },
  {
   "cell_type": "code",
   "execution_count": 17,
   "metadata": {},
   "outputs": [
    {
     "name": "stdout",
     "output_type": "stream",
     "text": [
      "Epoch 1/300\n",
      "\u001b[1m669/669\u001b[0m \u001b[32m━━━━━━━━━━━━━━━━━━━━\u001b[0m\u001b[37m\u001b[0m \u001b[1m4s\u001b[0m 6ms/step - loss: 83.0257 - pitch_MAE_hpe: 8.4161 - pitch_Save_UNC: 7.4226 - pitch_angle_accuracy: 0.8333 - pitch_loss: 35.1958 - roll_MAE_hpe: 16.1388 - roll_Save_UNC: 5.9374 - roll_angle_accuracy: 0.6507 - roll_loss: 28.8984 - yaw_MAE_hpe: 13.7855 - yaw_Save_UNC: 4.6836 - yaw_angle_accuracy: 0.6620 - yaw_loss: 18.9315 - val_loss: 74.6508 - val_pitch_MAE_hpe: 8.8575 - val_pitch_Save_UNC: 20.0000 - val_pitch_angle_accuracy: 0.8180 - val_pitch_loss: 33.9337 - val_roll_MAE_hpe: 18.2041 - val_roll_Save_UNC: 20.0000 - val_roll_angle_accuracy: 0.5849 - val_roll_loss: 23.2029 - val_yaw_MAE_hpe: 13.4983 - val_yaw_Save_UNC: 20.0000 - val_yaw_angle_accuracy: 0.6646 - val_yaw_loss: 17.5141\n",
      "Epoch 2/300\n",
      "\u001b[1m669/669\u001b[0m \u001b[32m━━━━━━━━━━━━━━━━━━━━\u001b[0m\u001b[37m\u001b[0m \u001b[1m4s\u001b[0m 5ms/step - loss: 70.6706 - pitch_MAE_hpe: 11.5985 - pitch_Save_UNC: 6.2682 - pitch_angle_accuracy: 0.7406 - pitch_loss: 29.9697 - roll_MAE_hpe: 18.4186 - roll_Save_UNC: 5.4480 - roll_angle_accuracy: 0.5765 - roll_loss: 23.6381 - yaw_MAE_hpe: 13.8631 - yaw_Save_UNC: 4.4921 - yaw_angle_accuracy: 0.6599 - yaw_loss: 17.0628 - val_loss: 64.9696 - val_pitch_MAE_hpe: 16.3682 - val_pitch_Save_UNC: 20.0000 - val_pitch_angle_accuracy: 0.6163 - val_pitch_loss: 25.4571 - val_roll_MAE_hpe: 18.7328 - val_roll_Save_UNC: 20.0000 - val_roll_angle_accuracy: 0.5717 - val_roll_loss: 22.4862 - val_yaw_MAE_hpe: 13.7141 - val_yaw_Save_UNC: 20.0000 - val_yaw_angle_accuracy: 0.6603 - val_yaw_loss: 17.0264\n",
      "Epoch 3/300\n",
      "\u001b[1m669/669\u001b[0m \u001b[32m━━━━━━━━━━━━━━━━━━━━\u001b[0m\u001b[37m\u001b[0m \u001b[1m4s\u001b[0m 6ms/step - loss: 64.8211 - pitch_MAE_hpe: 16.2609 - pitch_Save_UNC: 5.7029 - pitch_angle_accuracy: 0.6262 - pitch_loss: 24.8719 - roll_MAE_hpe: 18.7484 - roll_Save_UNC: 5.3791 - roll_angle_accuracy: 0.5710 - roll_loss: 22.9985 - yaw_MAE_hpe: 13.8163 - yaw_Save_UNC: 4.4899 - yaw_angle_accuracy: 0.6613 - yaw_loss: 16.9507 - val_loss: 63.6111 - val_pitch_MAE_hpe: 16.8969 - val_pitch_Save_UNC: 20.0000 - val_pitch_angle_accuracy: 0.6211 - val_pitch_loss: 24.3234 - val_roll_MAE_hpe: 18.8791 - val_roll_Save_UNC: 20.0000 - val_roll_angle_accuracy: 0.5701 - val_roll_loss: 22.3103 - val_yaw_MAE_hpe: 13.5902 - val_yaw_Save_UNC: 20.0000 - val_yaw_angle_accuracy: 0.6635 - val_yaw_loss: 16.9774\n",
      "Epoch 4/300\n",
      "\u001b[1m669/669\u001b[0m \u001b[32m━━━━━━━━━━━━━━━━━━━━\u001b[0m\u001b[37m\u001b[0m \u001b[1m4s\u001b[0m 6ms/step - loss: 63.7125 - pitch_MAE_hpe: 16.6600 - pitch_Save_UNC: 5.5905 - pitch_angle_accuracy: 0.6298 - pitch_loss: 24.0235 - roll_MAE_hpe: 18.7829 - roll_Save_UNC: 5.3529 - roll_angle_accuracy: 0.5708 - roll_loss: 22.8316 - yaw_MAE_hpe: 13.7278 - yaw_Save_UNC: 4.4767 - yaw_angle_accuracy: 0.6634 - yaw_loss: 16.8575 - val_loss: 62.9975 - val_pitch_MAE_hpe: 17.0983 - val_pitch_Save_UNC: 20.0000 - val_pitch_angle_accuracy: 0.6235 - val_pitch_loss: 23.9675 - val_roll_MAE_hpe: 18.9885 - val_roll_Save_UNC: 20.0000 - val_roll_angle_accuracy: 0.5684 - val_roll_loss: 22.1680 - val_yaw_MAE_hpe: 13.5754 - val_yaw_Save_UNC: 20.0000 - val_yaw_angle_accuracy: 0.6632 - val_yaw_loss: 16.8620\n",
      "Epoch 5/300\n",
      "\u001b[1m669/669\u001b[0m \u001b[32m━━━━━━━━━━━━━━━━━━━━\u001b[0m\u001b[37m\u001b[0m \u001b[1m4s\u001b[0m 6ms/step - loss: 63.2419 - pitch_MAE_hpe: 16.7711 - pitch_Save_UNC: 5.5603 - pitch_angle_accuracy: 0.6307 - pitch_loss: 23.7630 - roll_MAE_hpe: 18.7759 - roll_Save_UNC: 5.3361 - roll_angle_accuracy: 0.5722 - roll_loss: 22.6972 - yaw_MAE_hpe: 13.7110 - yaw_Save_UNC: 4.4652 - yaw_angle_accuracy: 0.6638 - yaw_loss: 16.7818 - val_loss: 62.7191 - val_pitch_MAE_hpe: 17.1622 - val_pitch_Save_UNC: 20.0000 - val_pitch_angle_accuracy: 0.6232 - val_pitch_loss: 23.8070 - val_roll_MAE_hpe: 18.9974 - val_roll_Save_UNC: 20.0000 - val_roll_angle_accuracy: 0.5690 - val_roll_loss: 22.0940 - val_yaw_MAE_hpe: 13.5665 - val_yaw_Save_UNC: 20.0000 - val_yaw_angle_accuracy: 0.6638 - val_yaw_loss: 16.8181\n",
      "Epoch 6/300\n",
      "\u001b[1m669/669\u001b[0m \u001b[32m━━━━━━━━━━━━━━━━━━━━\u001b[0m\u001b[37m\u001b[0m \u001b[1m4s\u001b[0m 6ms/step - loss: 62.9380 - pitch_MAE_hpe: 16.8356 - pitch_Save_UNC: 5.5409 - pitch_angle_accuracy: 0.6303 - pitch_loss: 23.5907 - roll_MAE_hpe: 18.7633 - roll_Save_UNC: 5.3275 - roll_angle_accuracy: 0.5730 - roll_loss: 22.6317 - yaw_MAE_hpe: 13.6993 - yaw_Save_UNC: 4.4581 - yaw_angle_accuracy: 0.6645 - yaw_loss: 16.7156 - val_loss: 62.6006 - val_pitch_MAE_hpe: 17.0822 - val_pitch_Save_UNC: 20.0000 - val_pitch_angle_accuracy: 0.6250 - val_pitch_loss: 23.7343 - val_roll_MAE_hpe: 19.0458 - val_roll_Save_UNC: 20.0000 - val_roll_angle_accuracy: 0.5679 - val_roll_loss: 22.0812 - val_yaw_MAE_hpe: 13.5630 - val_yaw_Save_UNC: 20.0000 - val_yaw_angle_accuracy: 0.6634 - val_yaw_loss: 16.7851\n",
      "Epoch 7/300\n",
      "\u001b[1m669/669\u001b[0m \u001b[32m━━━━━━━━━━━━━━━━━━━━\u001b[0m\u001b[37m\u001b[0m \u001b[1m4s\u001b[0m 6ms/step - loss: 62.8436 - pitch_MAE_hpe: 16.8313 - pitch_Save_UNC: 5.5348 - pitch_angle_accuracy: 0.6313 - pitch_loss: 23.5651 - roll_MAE_hpe: 18.7828 - roll_Save_UNC: 5.3270 - roll_angle_accuracy: 0.5728 - roll_loss: 22.6010 - yaw_MAE_hpe: 13.6957 - yaw_Save_UNC: 4.4531 - yaw_angle_accuracy: 0.6646 - yaw_loss: 16.6775 - val_loss: 62.5064 - val_pitch_MAE_hpe: 17.0296 - val_pitch_Save_UNC: 20.0000 - val_pitch_angle_accuracy: 0.6263 - val_pitch_loss: 23.6928 - val_roll_MAE_hpe: 19.0941 - val_roll_Save_UNC: 20.0000 - val_roll_angle_accuracy: 0.5673 - val_roll_loss: 22.0490 - val_yaw_MAE_hpe: 13.5567 - val_yaw_Save_UNC: 20.0000 - val_yaw_angle_accuracy: 0.6634 - val_yaw_loss: 16.7645\n",
      "Epoch 8/300\n",
      "\u001b[1m669/669\u001b[0m \u001b[32m━━━━━━━━━━━━━━━━━━━━\u001b[0m\u001b[37m\u001b[0m \u001b[1m4s\u001b[0m 6ms/step - loss: 62.7265 - pitch_MAE_hpe: 16.8436 - pitch_Save_UNC: 5.5255 - pitch_angle_accuracy: 0.6315 - pitch_loss: 23.4970 - roll_MAE_hpe: 18.7832 - roll_Save_UNC: 5.3201 - roll_angle_accuracy: 0.5730 - roll_loss: 22.5871 - yaw_MAE_hpe: 13.6996 - yaw_Save_UNC: 4.4471 - yaw_angle_accuracy: 0.6646 - yaw_loss: 16.6424 - val_loss: 62.4377 - val_pitch_MAE_hpe: 17.0283 - val_pitch_Save_UNC: 20.0000 - val_pitch_angle_accuracy: 0.6268 - val_pitch_loss: 23.6653 - val_roll_MAE_hpe: 19.1144 - val_roll_Save_UNC: 20.0000 - val_roll_angle_accuracy: 0.5670 - val_roll_loss: 22.0265 - val_yaw_MAE_hpe: 13.5540 - val_yaw_Save_UNC: 20.0000 - val_yaw_angle_accuracy: 0.6636 - val_yaw_loss: 16.7459\n",
      "Epoch 9/300\n",
      "\u001b[1m669/669\u001b[0m \u001b[32m━━━━━━━━━━━━━━━━━━━━\u001b[0m\u001b[37m\u001b[0m \u001b[1m4s\u001b[0m 6ms/step - loss: 62.6962 - pitch_MAE_hpe: 16.8504 - pitch_Save_UNC: 5.5231 - pitch_angle_accuracy: 0.6312 - pitch_loss: 23.4889 - roll_MAE_hpe: 18.7833 - roll_Save_UNC: 5.3164 - roll_angle_accuracy: 0.5731 - roll_loss: 22.5739 - yaw_MAE_hpe: 13.7011 - yaw_Save_UNC: 4.4450 - yaw_angle_accuracy: 0.6645 - yaw_loss: 16.6333 - val_loss: 62.4033 - val_pitch_MAE_hpe: 17.0205 - val_pitch_Save_UNC: 20.0000 - val_pitch_angle_accuracy: 0.6274 - val_pitch_loss: 23.6494 - val_roll_MAE_hpe: 19.1187 - val_roll_Save_UNC: 20.0000 - val_roll_angle_accuracy: 0.5671 - val_roll_loss: 22.0196 - val_yaw_MAE_hpe: 13.5515 - val_yaw_Save_UNC: 20.0000 - val_yaw_angle_accuracy: 0.6639 - val_yaw_loss: 16.7342\n",
      "Epoch 10/300\n",
      "\u001b[1m669/669\u001b[0m \u001b[32m━━━━━━━━━━━━━━━━━━━━\u001b[0m\u001b[37m\u001b[0m \u001b[1m5s\u001b[0m 7ms/step - loss: 62.6330 - pitch_MAE_hpe: 16.8570 - pitch_Save_UNC: 5.5286 - pitch_angle_accuracy: 0.6313 - pitch_loss: 23.4692 - roll_MAE_hpe: 18.7886 - roll_Save_UNC: 5.3151 - roll_angle_accuracy: 0.5730 - roll_loss: 22.5442 - yaw_MAE_hpe: 13.6935 - yaw_Save_UNC: 4.4440 - yaw_angle_accuracy: 0.6645 - yaw_loss: 16.6196 - val_loss: 62.3844 - val_pitch_MAE_hpe: 17.0170 - val_pitch_Save_UNC: 20.0000 - val_pitch_angle_accuracy: 0.6277 - val_pitch_loss: 23.6419 - val_roll_MAE_hpe: 19.1235 - val_roll_Save_UNC: 20.0000 - val_roll_angle_accuracy: 0.5670 - val_roll_loss: 22.0153 - val_yaw_MAE_hpe: 13.5495 - val_yaw_Save_UNC: 20.0000 - val_yaw_angle_accuracy: 0.6638 - val_yaw_loss: 16.7272\n",
      "Epoch 11/300\n",
      "\u001b[1m669/669\u001b[0m \u001b[32m━━━━━━━━━━━━━━━━━━━━\u001b[0m\u001b[37m\u001b[0m \u001b[1m5s\u001b[0m 7ms/step - loss: 62.5988 - pitch_MAE_hpe: 16.8638 - pitch_Save_UNC: 5.5184 - pitch_angle_accuracy: 0.6312 - pitch_loss: 23.4472 - roll_MAE_hpe: 18.7945 - roll_Save_UNC: 5.3138 - roll_angle_accuracy: 0.5731 - roll_loss: 22.5360 - yaw_MAE_hpe: 13.6897 - yaw_Save_UNC: 4.4433 - yaw_angle_accuracy: 0.6646 - yaw_loss: 16.6155 - val_loss: 62.3726 - val_pitch_MAE_hpe: 17.0114 - val_pitch_Save_UNC: 20.0000 - val_pitch_angle_accuracy: 0.6278 - val_pitch_loss: 23.6366 - val_roll_MAE_hpe: 19.1302 - val_roll_Save_UNC: 20.0000 - val_roll_angle_accuracy: 0.5669 - val_roll_loss: 22.0132 - val_yaw_MAE_hpe: 13.5487 - val_yaw_Save_UNC: 20.0000 - val_yaw_angle_accuracy: 0.6638 - val_yaw_loss: 16.7228\n",
      "Epoch 12/300\n",
      "\u001b[1m669/669\u001b[0m \u001b[32m━━━━━━━━━━━━━━━━━━━━\u001b[0m\u001b[37m\u001b[0m \u001b[1m5s\u001b[0m 7ms/step - loss: 62.5864 - pitch_MAE_hpe: 16.8671 - pitch_Save_UNC: 5.5157 - pitch_angle_accuracy: 0.6311 - pitch_loss: 23.4462 - roll_MAE_hpe: 18.7891 - roll_Save_UNC: 5.3191 - roll_angle_accuracy: 0.5733 - roll_loss: 22.5288 - yaw_MAE_hpe: 13.6904 - yaw_Save_UNC: 4.4410 - yaw_angle_accuracy: 0.6645 - yaw_loss: 16.6114 - val_loss: 62.3661 - val_pitch_MAE_hpe: 17.0116 - val_pitch_Save_UNC: 20.0000 - val_pitch_angle_accuracy: 0.6276 - val_pitch_loss: 23.6344 - val_roll_MAE_hpe: 19.1255 - val_roll_Save_UNC: 20.0000 - val_roll_angle_accuracy: 0.5673 - val_roll_loss: 22.0107 - val_yaw_MAE_hpe: 13.5482 - val_yaw_Save_UNC: 20.0000 - val_yaw_angle_accuracy: 0.6638 - val_yaw_loss: 16.7211\n",
      "Epoch 13/300\n",
      "\u001b[1m669/669\u001b[0m \u001b[32m━━━━━━━━━━━━━━━━━━━━\u001b[0m\u001b[37m\u001b[0m \u001b[1m5s\u001b[0m 7ms/step - loss: 62.5889 - pitch_MAE_hpe: 16.8517 - pitch_Save_UNC: 5.5208 - pitch_angle_accuracy: 0.6316 - pitch_loss: 23.4452 - roll_MAE_hpe: 18.7828 - roll_Save_UNC: 5.3155 - roll_angle_accuracy: 0.5734 - roll_loss: 22.5461 - yaw_MAE_hpe: 13.6924 - yaw_Save_UNC: 4.4414 - yaw_angle_accuracy: 0.6645 - yaw_loss: 16.5975 - val_loss: 62.3629 - val_pitch_MAE_hpe: 17.0095 - val_pitch_Save_UNC: 20.0000 - val_pitch_angle_accuracy: 0.6278 - val_pitch_loss: 23.6326 - val_roll_MAE_hpe: 19.1265 - val_roll_Save_UNC: 20.0000 - val_roll_angle_accuracy: 0.5670 - val_roll_loss: 22.0108 - val_yaw_MAE_hpe: 13.5477 - val_yaw_Save_UNC: 20.0000 - val_yaw_angle_accuracy: 0.6638 - val_yaw_loss: 16.7195\n",
      "Epoch 14/300\n",
      "\u001b[1m669/669\u001b[0m \u001b[32m━━━━━━━━━━━━━━━━━━━━\u001b[0m\u001b[37m\u001b[0m \u001b[1m4s\u001b[0m 6ms/step - loss: 62.5859 - pitch_MAE_hpe: 16.8608 - pitch_Save_UNC: 5.5184 - pitch_angle_accuracy: 0.6312 - pitch_loss: 23.4425 - roll_MAE_hpe: 18.7902 - roll_Save_UNC: 5.3133 - roll_angle_accuracy: 0.5732 - roll_loss: 22.5241 - yaw_MAE_hpe: 13.6889 - yaw_Save_UNC: 4.4422 - yaw_angle_accuracy: 0.6644 - yaw_loss: 16.6193 - val_loss: 62.3603 - val_pitch_MAE_hpe: 17.0082 - val_pitch_Save_UNC: 20.0000 - val_pitch_angle_accuracy: 0.6279 - val_pitch_loss: 23.6315 - val_roll_MAE_hpe: 19.1271 - val_roll_Save_UNC: 20.0000 - val_roll_angle_accuracy: 0.5670 - val_roll_loss: 22.0103 - val_yaw_MAE_hpe: 13.5474 - val_yaw_Save_UNC: 20.0000 - val_yaw_angle_accuracy: 0.6639 - val_yaw_loss: 16.7186\n",
      "Epoch 15/300\n",
      "\u001b[1m669/669\u001b[0m \u001b[32m━━━━━━━━━━━━━━━━━━━━\u001b[0m\u001b[37m\u001b[0m \u001b[1m4s\u001b[0m 6ms/step - loss: 62.5754 - pitch_MAE_hpe: 16.8553 - pitch_Save_UNC: 5.5104 - pitch_angle_accuracy: 0.6314 - pitch_loss: 23.4320 - roll_MAE_hpe: 18.7824 - roll_Save_UNC: 5.3120 - roll_angle_accuracy: 0.5736 - roll_loss: 22.5376 - yaw_MAE_hpe: 13.6905 - yaw_Save_UNC: 4.4387 - yaw_angle_accuracy: 0.6644 - yaw_loss: 16.6058 - val_loss: 62.3586 - val_pitch_MAE_hpe: 17.0088 - val_pitch_Save_UNC: 20.0000 - val_pitch_angle_accuracy: 0.6279 - val_pitch_loss: 23.6304 - val_roll_MAE_hpe: 19.1267 - val_roll_Save_UNC: 20.0000 - val_roll_angle_accuracy: 0.5670 - val_roll_loss: 22.0104 - val_yaw_MAE_hpe: 13.5474 - val_yaw_Save_UNC: 20.0000 - val_yaw_angle_accuracy: 0.6638 - val_yaw_loss: 16.7178\n",
      "Epoch 16/300\n",
      "\u001b[1m669/669\u001b[0m \u001b[32m━━━━━━━━━━━━━━━━━━━━\u001b[0m\u001b[37m\u001b[0m \u001b[1m4s\u001b[0m 6ms/step - loss: 62.5787 - pitch_MAE_hpe: 16.8539 - pitch_Save_UNC: 5.5138 - pitch_angle_accuracy: 0.6313 - pitch_loss: 23.4387 - roll_MAE_hpe: 18.7897 - roll_Save_UNC: 5.3139 - roll_angle_accuracy: 0.5732 - roll_loss: 22.5343 - yaw_MAE_hpe: 13.6902 - yaw_Save_UNC: 4.4391 - yaw_angle_accuracy: 0.6646 - yaw_loss: 16.6058 - val_loss: 62.3582 - val_pitch_MAE_hpe: 17.0079 - val_pitch_Save_UNC: 20.0000 - val_pitch_angle_accuracy: 0.6279 - val_pitch_loss: 23.6300 - val_roll_MAE_hpe: 19.1269 - val_roll_Save_UNC: 20.0000 - val_roll_angle_accuracy: 0.5671 - val_roll_loss: 22.0108 - val_yaw_MAE_hpe: 13.5473 - val_yaw_Save_UNC: 20.0000 - val_yaw_angle_accuracy: 0.6638 - val_yaw_loss: 16.7174\n",
      "Epoch 17/300\n",
      "\u001b[1m669/669\u001b[0m \u001b[32m━━━━━━━━━━━━━━━━━━━━\u001b[0m\u001b[37m\u001b[0m \u001b[1m4s\u001b[0m 6ms/step - loss: 62.5568 - pitch_MAE_hpe: 16.8595 - pitch_Save_UNC: 5.5154 - pitch_angle_accuracy: 0.6315 - pitch_loss: 23.4264 - roll_MAE_hpe: 18.7842 - roll_Save_UNC: 5.3139 - roll_angle_accuracy: 0.5733 - roll_loss: 22.5297 - yaw_MAE_hpe: 13.6892 - yaw_Save_UNC: 4.4402 - yaw_angle_accuracy: 0.6645 - yaw_loss: 16.6007 - val_loss: 62.3577 - val_pitch_MAE_hpe: 17.0078 - val_pitch_Save_UNC: 20.0000 - val_pitch_angle_accuracy: 0.6280 - val_pitch_loss: 23.6298 - val_roll_MAE_hpe: 19.1271 - val_roll_Save_UNC: 20.0000 - val_roll_angle_accuracy: 0.5670 - val_roll_loss: 22.0106 - val_yaw_MAE_hpe: 13.5473 - val_yaw_Save_UNC: 20.0000 - val_yaw_angle_accuracy: 0.6638 - val_yaw_loss: 16.7172\n",
      "Epoch 18/300\n",
      "\u001b[1m669/669\u001b[0m \u001b[32m━━━━━━━━━━━━━━━━━━━━\u001b[0m\u001b[37m\u001b[0m \u001b[1m4s\u001b[0m 6ms/step - loss: 62.5844 - pitch_MAE_hpe: 16.8618 - pitch_Save_UNC: 5.5129 - pitch_angle_accuracy: 0.6312 - pitch_loss: 23.4329 - roll_MAE_hpe: 18.7909 - roll_Save_UNC: 5.3113 - roll_angle_accuracy: 0.5732 - roll_loss: 22.5398 - yaw_MAE_hpe: 13.6948 - yaw_Save_UNC: 4.4394 - yaw_angle_accuracy: 0.6644 - yaw_loss: 16.6117 - val_loss: 62.3572 - val_pitch_MAE_hpe: 17.0079 - val_pitch_Save_UNC: 20.0000 - val_pitch_angle_accuracy: 0.6280 - val_pitch_loss: 23.6295 - val_roll_MAE_hpe: 19.1271 - val_roll_Save_UNC: 20.0000 - val_roll_angle_accuracy: 0.5670 - val_roll_loss: 22.0107 - val_yaw_MAE_hpe: 13.5473 - val_yaw_Save_UNC: 20.0000 - val_yaw_angle_accuracy: 0.6638 - val_yaw_loss: 16.7170\n",
      "Epoch 19/300\n",
      "\u001b[1m669/669\u001b[0m \u001b[32m━━━━━━━━━━━━━━━━━━━━\u001b[0m\u001b[37m\u001b[0m \u001b[1m4s\u001b[0m 6ms/step - loss: 62.5616 - pitch_MAE_hpe: 16.8522 - pitch_Save_UNC: 5.5132 - pitch_angle_accuracy: 0.6313 - pitch_loss: 23.4317 - roll_MAE_hpe: 18.7874 - roll_Save_UNC: 5.3119 - roll_angle_accuracy: 0.5734 - roll_loss: 22.5271 - yaw_MAE_hpe: 13.6955 - yaw_Save_UNC: 4.4393 - yaw_angle_accuracy: 0.6642 - yaw_loss: 16.6027 - val_loss: 62.3571 - val_pitch_MAE_hpe: 17.0077 - val_pitch_Save_UNC: 20.0000 - val_pitch_angle_accuracy: 0.6280 - val_pitch_loss: 23.6294 - val_roll_MAE_hpe: 19.1272 - val_roll_Save_UNC: 20.0000 - val_roll_angle_accuracy: 0.5670 - val_roll_loss: 22.0108 - val_yaw_MAE_hpe: 13.5473 - val_yaw_Save_UNC: 20.0000 - val_yaw_angle_accuracy: 0.6639 - val_yaw_loss: 16.7169\n",
      "Epoch 20/300\n",
      "\u001b[1m669/669\u001b[0m \u001b[32m━━━━━━━━━━━━━━━━━━━━\u001b[0m\u001b[37m\u001b[0m \u001b[1m4s\u001b[0m 6ms/step - loss: 62.5813 - pitch_MAE_hpe: 16.8574 - pitch_Save_UNC: 5.5142 - pitch_angle_accuracy: 0.6314 - pitch_loss: 23.4476 - roll_MAE_hpe: 18.7932 - roll_Save_UNC: 5.3124 - roll_angle_accuracy: 0.5732 - roll_loss: 22.5302 - yaw_MAE_hpe: 13.6915 - yaw_Save_UNC: 4.4403 - yaw_angle_accuracy: 0.6645 - yaw_loss: 16.6035 - val_loss: 62.3570 - val_pitch_MAE_hpe: 17.0077 - val_pitch_Save_UNC: 20.0000 - val_pitch_angle_accuracy: 0.6280 - val_pitch_loss: 23.6294 - val_roll_MAE_hpe: 19.1272 - val_roll_Save_UNC: 20.0000 - val_roll_angle_accuracy: 0.5670 - val_roll_loss: 22.0108 - val_yaw_MAE_hpe: 13.5473 - val_yaw_Save_UNC: 20.0000 - val_yaw_angle_accuracy: 0.6639 - val_yaw_loss: 16.7168\n",
      "Epoch 21/300\n",
      "\u001b[1m669/669\u001b[0m \u001b[32m━━━━━━━━━━━━━━━━━━━━\u001b[0m\u001b[37m\u001b[0m \u001b[1m4s\u001b[0m 6ms/step - loss: 62.5518 - pitch_MAE_hpe: 16.8596 - pitch_Save_UNC: 5.5137 - pitch_angle_accuracy: 0.6314 - pitch_loss: 23.4264 - roll_MAE_hpe: 18.7924 - roll_Save_UNC: 5.3120 - roll_angle_accuracy: 0.5732 - roll_loss: 22.5169 - yaw_MAE_hpe: 13.6883 - yaw_Save_UNC: 4.4403 - yaw_angle_accuracy: 0.6647 - yaw_loss: 16.6085 - val_loss: 62.3568 - val_pitch_MAE_hpe: 17.0077 - val_pitch_Save_UNC: 20.0000 - val_pitch_angle_accuracy: 0.6280 - val_pitch_loss: 23.6293 - val_roll_MAE_hpe: 19.1272 - val_roll_Save_UNC: 20.0000 - val_roll_angle_accuracy: 0.5670 - val_roll_loss: 22.0108 - val_yaw_MAE_hpe: 13.5473 - val_yaw_Save_UNC: 20.0000 - val_yaw_angle_accuracy: 0.6638 - val_yaw_loss: 16.7168\n",
      "Epoch 22/300\n",
      "\u001b[1m669/669\u001b[0m \u001b[32m━━━━━━━━━━━━━━━━━━━━\u001b[0m\u001b[37m\u001b[0m \u001b[1m4s\u001b[0m 6ms/step - loss: 62.5682 - pitch_MAE_hpe: 16.8574 - pitch_Save_UNC: 5.5142 - pitch_angle_accuracy: 0.6316 - pitch_loss: 23.4458 - roll_MAE_hpe: 18.7884 - roll_Save_UNC: 5.3123 - roll_angle_accuracy: 0.5734 - roll_loss: 22.5148 - yaw_MAE_hpe: 13.6902 - yaw_Save_UNC: 4.4406 - yaw_angle_accuracy: 0.6646 - yaw_loss: 16.6076 - val_loss: 62.3569 - val_pitch_MAE_hpe: 17.0076 - val_pitch_Save_UNC: 20.0000 - val_pitch_angle_accuracy: 0.6280 - val_pitch_loss: 23.6293 - val_roll_MAE_hpe: 19.1272 - val_roll_Save_UNC: 20.0000 - val_roll_angle_accuracy: 0.5669 - val_roll_loss: 22.0108 - val_yaw_MAE_hpe: 13.5473 - val_yaw_Save_UNC: 20.0000 - val_yaw_angle_accuracy: 0.6639 - val_yaw_loss: 16.7168\n",
      "Epoch 23/300\n",
      "\u001b[1m669/669\u001b[0m \u001b[32m━━━━━━━━━━━━━━━━━━━━\u001b[0m\u001b[37m\u001b[0m \u001b[1m4s\u001b[0m 6ms/step - loss: 62.5572 - pitch_MAE_hpe: 16.8534 - pitch_Save_UNC: 5.5141 - pitch_angle_accuracy: 0.6314 - pitch_loss: 23.4257 - roll_MAE_hpe: 18.7833 - roll_Save_UNC: 5.3124 - roll_angle_accuracy: 0.5736 - roll_loss: 22.5256 - yaw_MAE_hpe: 13.6899 - yaw_Save_UNC: 4.4401 - yaw_angle_accuracy: 0.6646 - yaw_loss: 16.6059 - val_loss: 62.3568 - val_pitch_MAE_hpe: 17.0076 - val_pitch_Save_UNC: 20.0000 - val_pitch_angle_accuracy: 0.6280 - val_pitch_loss: 23.6293 - val_roll_MAE_hpe: 19.1272 - val_roll_Save_UNC: 20.0000 - val_roll_angle_accuracy: 0.5669 - val_roll_loss: 22.0108 - val_yaw_MAE_hpe: 13.5473 - val_yaw_Save_UNC: 20.0000 - val_yaw_angle_accuracy: 0.6639 - val_yaw_loss: 16.7167\n",
      "Epoch 24/300\n",
      "\u001b[1m669/669\u001b[0m \u001b[32m━━━━━━━━━━━━━━━━━━━━\u001b[0m\u001b[37m\u001b[0m \u001b[1m4s\u001b[0m 5ms/step - loss: 62.5575 - pitch_MAE_hpe: 16.8573 - pitch_Save_UNC: 5.5143 - pitch_angle_accuracy: 0.6315 - pitch_loss: 23.4409 - roll_MAE_hpe: 18.7871 - roll_Save_UNC: 5.3122 - roll_angle_accuracy: 0.5733 - roll_loss: 22.5265 - yaw_MAE_hpe: 13.6930 - yaw_Save_UNC: 4.4407 - yaw_angle_accuracy: 0.6644 - yaw_loss: 16.5900 - val_loss: 62.3568 - val_pitch_MAE_hpe: 17.0076 - val_pitch_Save_UNC: 20.0000 - val_pitch_angle_accuracy: 0.6280 - val_pitch_loss: 23.6293 - val_roll_MAE_hpe: 19.1272 - val_roll_Save_UNC: 20.0000 - val_roll_angle_accuracy: 0.5669 - val_roll_loss: 22.0108 - val_yaw_MAE_hpe: 13.5473 - val_yaw_Save_UNC: 20.0000 - val_yaw_angle_accuracy: 0.6639 - val_yaw_loss: 16.7167\n",
      "Epoch 25/300\n",
      "\u001b[1m669/669\u001b[0m \u001b[32m━━━━━━━━━━━━━━━━━━━━\u001b[0m\u001b[37m\u001b[0m \u001b[1m4s\u001b[0m 6ms/step - loss: 62.5417 - pitch_MAE_hpe: 16.8433 - pitch_Save_UNC: 5.5140 - pitch_angle_accuracy: 0.6317 - pitch_loss: 23.4312 - roll_MAE_hpe: 18.7857 - roll_Save_UNC: 5.3123 - roll_angle_accuracy: 0.5734 - roll_loss: 22.5264 - yaw_MAE_hpe: 13.6912 - yaw_Save_UNC: 4.4405 - yaw_angle_accuracy: 0.6645 - yaw_loss: 16.5841 - val_loss: 62.3568 - val_pitch_MAE_hpe: 17.0076 - val_pitch_Save_UNC: 20.0000 - val_pitch_angle_accuracy: 0.6280 - val_pitch_loss: 23.6293 - val_roll_MAE_hpe: 19.1272 - val_roll_Save_UNC: 20.0000 - val_roll_angle_accuracy: 0.5669 - val_roll_loss: 22.0108 - val_yaw_MAE_hpe: 13.5473 - val_yaw_Save_UNC: 20.0000 - val_yaw_angle_accuracy: 0.6639 - val_yaw_loss: 16.7167\n",
      "Epoch 26/300\n",
      "\u001b[1m669/669\u001b[0m \u001b[32m━━━━━━━━━━━━━━━━━━━━\u001b[0m\u001b[37m\u001b[0m \u001b[1m4s\u001b[0m 6ms/step - loss: 62.5749 - pitch_MAE_hpe: 16.8600 - pitch_Save_UNC: 5.5140 - pitch_angle_accuracy: 0.6314 - pitch_loss: 23.4388 - roll_MAE_hpe: 18.7830 - roll_Save_UNC: 5.3122 - roll_angle_accuracy: 0.5734 - roll_loss: 22.5234 - yaw_MAE_hpe: 13.6907 - yaw_Save_UNC: 4.4405 - yaw_angle_accuracy: 0.6646 - yaw_loss: 16.6127 - val_loss: 62.3568 - val_pitch_MAE_hpe: 17.0075 - val_pitch_Save_UNC: 20.0000 - val_pitch_angle_accuracy: 0.6280 - val_pitch_loss: 23.6293 - val_roll_MAE_hpe: 19.1272 - val_roll_Save_UNC: 20.0000 - val_roll_angle_accuracy: 0.5669 - val_roll_loss: 22.0108 - val_yaw_MAE_hpe: 13.5473 - val_yaw_Save_UNC: 20.0000 - val_yaw_angle_accuracy: 0.6639 - val_yaw_loss: 16.7167\n",
      "Epoch 26: early stopping\n"
     ]
    }
   ],
   "source": [
    "EPOCHS = 300\n",
    "history = posenet_head.fit(train_dataset_posenet, epochs=EPOCHS,\n",
    "                               callbacks=[tensorboard_callback, early_stopping_callback], validation_data=val_dataset_posenet)\n"
   ]
  },
  {
   "cell_type": "code",
   "execution_count": 18,
   "metadata": {},
   "outputs": [
    {
     "name": "stdout",
     "output_type": "stream",
     "text": [
      "\u001b[1m233/233\u001b[0m \u001b[32m━━━━━━━━━━━━━━━━━━━━\u001b[0m\u001b[37m\u001b[0m \u001b[1m2s\u001b[0m 7ms/step - loss: 57.8676 - pitch_MAE_hpe: 17.3407 - pitch_Save_UNC: 5.2964 - pitch_angle_accuracy: 0.5809 - pitch_loss: 23.3065 - roll_MAE_hpe: 19.2542 - roll_Save_UNC: 5.1020 - roll_angle_accuracy: 0.5544 - roll_loss: 18.6388 - yaw_MAE_hpe: 12.4100 - yaw_Save_UNC: 4.3815 - yaw_angle_accuracy: 0.6924 - yaw_loss: 15.9224\n"
     ]
    }
   ],
   "source": [
    "test_history = posenet_head.evaluate(test_dataset_posenet, return_dict=True)"
   ]
  },
  {
   "cell_type": "code",
   "execution_count": 19,
   "metadata": {},
   "outputs": [
    {
     "data": {
      "text/plain": [
       "{'loss': 56.45566940307617,\n",
       " 'pitch_MAE_hpe': 17.395126342773438,\n",
       " 'pitch_Save_UNC': 20.0,\n",
       " 'pitch_angle_accuracy': 0.5935488343238831,\n",
       " 'pitch_loss': 22.89132308959961,\n",
       " 'roll_MAE_hpe': 18.56394386291504,\n",
       " 'roll_Save_UNC': 20.0,\n",
       " 'roll_angle_accuracy': 0.5777561664581299,\n",
       " 'roll_loss': 18.61342430114746,\n",
       " 'yaw_MAE_hpe': 11.562639236450195,\n",
       " 'yaw_Save_UNC': 20.0,\n",
       " 'yaw_angle_accuracy': 0.7197223901748657,\n",
       " 'yaw_loss': 14.950921058654785}"
      ]
     },
     "execution_count": 19,
     "metadata": {},
     "output_type": "execute_result"
    }
   ],
   "source": [
    "test_history"
   ]
  },
  {
   "cell_type": "code",
   "execution_count": 20,
   "metadata": {},
   "outputs": [
    {
     "name": "stdout",
     "output_type": "stream",
     "text": [
      "\u001b[1m 43/233\u001b[0m \u001b[32m━━━\u001b[0m\u001b[37m━━━━━━━━━━━━━━━━━\u001b[0m \u001b[1m0s\u001b[0m 2ms/step"
     ]
    },
    {
     "name": "stderr",
     "output_type": "stream",
     "text": [
      "c:\\Users\\User\\anaconda3\\envs\\Thesis\\lib\\site-packages\\keras\\src\\models\\functional.py:225: UserWarning: The structure of `inputs` doesn't match the expected structure: input. Received: the structure of inputs={'input': '*'}\n",
      "  warnings.warn(\n"
     ]
    },
    {
     "name": "stdout",
     "output_type": "stream",
     "text": [
      "\u001b[1m233/233\u001b[0m \u001b[32m━━━━━━━━━━━━━━━━━━━━\u001b[0m\u001b[37m\u001b[0m \u001b[1m1s\u001b[0m 2ms/step\n"
     ]
    }
   ],
   "source": [
    "test_prediction = posenet_head.predict(test_dataset_posenet)"
   ]
  },
  {
   "cell_type": "code",
   "execution_count": 24,
   "metadata": {},
   "outputs": [
    {
     "data": {
      "text/plain": [
       "(29824, 2)"
      ]
     },
     "execution_count": 24,
     "metadata": {},
     "output_type": "execute_result"
    }
   ],
   "source": [
    "test_prediction[0].shape"
   ]
  },
  {
   "cell_type": "code",
   "execution_count": 31,
   "metadata": {},
   "outputs": [
    {
     "data": {
      "text/plain": [
       "<Axes: ylabel='Count'>"
      ]
     },
     "execution_count": 31,
     "metadata": {},
     "output_type": "execute_result"
    },
    {
     "data": {
      "image/png": "[encoded data removed]",
      "text/plain": [
       "<Figure size 640x480 with 1 Axes>"
      ]
     },
     "metadata": {},
     "output_type": "display_data"
    }
   ],
   "source": [
    "sns.histplot(test_prediction[0][:,0])"
   ]
  },
  {
   "cell_type": "code",
   "execution_count": 30,
   "metadata": {},
   "outputs": [
    {
     "data": {
      "text/plain": [
       "<Axes: ylabel='Count'>"
      ]
     },
     "execution_count": 30,
     "metadata": {},
     "output_type": "execute_result"
    },
    {
     "data": {
      "image/png": "[encoded data removed]",
      "text/plain": [
       "<Figure size 640x480 with 1 Axes>"
      ]
     },
     "metadata": {},
     "output_type": "display_data"
    }
   ],
   "source": [
    "sns.histplot(test_prediction[1][:,0])"
   ]
  },
  {
   "cell_type": "code",
   "execution_count": 32,
   "metadata": {},
   "outputs": [
    {
     "data": {
      "text/plain": [
       "<Axes: ylabel='Count'>"
      ]
     },
     "execution_count": 32,
     "metadata": {},
     "output_type": "execute_result"
    },
    {
     "data": {
      "image/png": "[encoded data removed]",
      "text/plain": [
       "<Figure size 640x480 with 1 Axes>"
      ]
     },
     "metadata": {},
     "output_type": "display_data"
    }
   ],
   "source": [
    "sns.histplot(test_prediction[2][:,0])"
   ]
  },
  {
   "cell_type": "code",
   "execution_count": 45,
   "metadata": {},
   "outputs": [],
   "source": [
    "result_angles = tf.concat(angles_all_test_posenet, axis=0)"
   ]
  },
  {
   "cell_type": "code",
   "execution_count": 47,
   "metadata": {},
   "outputs": [
    {
     "data": {
      "text/plain": [
       "<Axes: ylabel='Count'>"
      ]
     },
     "execution_count": 47,
     "metadata": {},
     "output_type": "execute_result"
    },
    {
     "data": {
      "image/png": "[encoded data removed]",
      "text/plain": [
       "<Figure size 640x480 with 1 Axes>"
      ]
     },
     "metadata": {},
     "output_type": "display_data"
    }
   ],
   "source": [
    "sns.histplot(result_angles [:,0])"
   ]
  },
  {
   "cell_type": "code",
   "execution_count": 49,
   "metadata": {},
   "outputs": [
    {
     "data": {
      "text/plain": [
       "<Axes: ylabel='Count'>"
      ]
     },
     "execution_count": 49,
     "metadata": {},
     "output_type": "execute_result"
    },
    {
     "data": {
      "image/png": "[encoded data removed]",
      "text/plain": [
       "<Figure size 640x480 with 1 Axes>"
      ]
     },
     "metadata": {},
     "output_type": "display_data"
    }
   ],
   "source": [
    "sns.histplot(result_angles [:,2])"
   ]
  },
  {
   "cell_type": "code",
   "execution_count": 50,
   "metadata": {},
   "outputs": [
    {
     "data": {
      "text/plain": [
       "<Axes: ylabel='Count'>"
      ]
     },
     "execution_count": 50,
     "metadata": {},
     "output_type": "execute_result"
    },
    {
     "data": {
      "image/png": "[encoded data removed]",
      "text/plain": [
       "<Figure size 640x480 with 1 Axes>"
      ]
     },
     "metadata": {},
     "output_type": "display_data"
    }
   ],
   "source": [
    "sns.histplot(result_angles [:,1])"
   ]
  },
  {
   "cell_type": "code",
   "execution_count": 54,
   "metadata": {},
   "outputs": [],
   "source": [
    "unc_pr_yaw = test_prediction[0][:,1]\n",
    "unc_pr_pitch = test_prediction[1][:,1]\n",
    "unc_pr_roll = test_prediction[2][:,1]"
   ]
  },
  {
   "cell_type": "code",
   "execution_count": 55,
   "metadata": {},
   "outputs": [
    {
     "name": "stdout",
     "output_type": "stream",
     "text": [
      "tf.Tensor(4.2617154, shape=(), dtype=float32)\n",
      "tf.Tensor(5.223548, shape=(), dtype=float32)\n",
      "tf.Tensor(5.0712605, shape=(), dtype=float32)\n"
     ]
    }
   ],
   "source": [
    "print(tf.reduce_mean(tf.sqrt(tf.exp(unc_pr_yaw))))\n",
    "print(tf.reduce_mean(tf.sqrt(tf.exp(unc_pr_pitch))))\n",
    "print(tf.reduce_mean(tf.sqrt(tf.exp(unc_pr_roll))))"
   ]
  },
  {
   "cell_type": "markdown",
   "metadata": {},
   "source": [
    "### Testing old loss"
   ]
  },
  {
   "cell_type": "code",
   "execution_count": 56,
   "metadata": {},
   "outputs": [
    {
     "name": "stdout",
     "output_type": "stream",
     "text": [
      "0.8333215 0.37268856\n"
     ]
    }
   ],
   "source": [
    "current_time = datetime.datetime.now()\n",
    "today = datetime.date.today()\n",
    "d1 = '' + today.strftime(\"%d-%m-%Y\") + '_' + str(current_time.hour) + '_' + str(current_time.minute)\n",
    "folder_results = r\"results/posenet_trained\"\n",
    "\n",
    "mean_uncertainty_in_dataset, std_uncertainty_in_dataset = calculate_stats_in_dataset_from_kpts(kpts_all_train_posenet)\n",
    "\n",
    "print(mean_uncertainty_in_dataset, std_uncertainty_in_dataset)\n",
    "\n",
    "log_dir = \"results/posenet_trained/logs/fit/\" + datetime.datetime.now().strftime(\"%Y%m%d-%H%M%S\")\n",
    "\n",
    "tensorboard_callback = tf.keras.callbacks.TensorBoard(log_dir=log_dir, histogram_freq=1)\n",
    "\n",
    "early_stopping_callback = keras.callbacks.EarlyStopping(\n",
    "                # Stop training when `val_loss` is no longer improving\n",
    "                monitor=\"val_loss\",\n",
    "                # \"no longer improving\" being defined as \"no better than 1e-2 less\"\n",
    "                min_delta=0.0001, # almost everythinh is an improvemente\n",
    "                # \"no longer improving\" being further defined as \"for at least 5 epochs\"\n",
    "                patience=5,\n",
    "                verbose=1,\n",
    "                restore_best_weights = False, # take the weights 5 epochs after best\n",
    "        )\n",
    "\n",
    "my_results = {}\n",
    "my_results['yaw_MAE_hpe'] = []\n",
    "my_results['pitch_MAE_hpe'] = []\n",
    "my_results['roll_MAE_hpe'] = []"
   ]
  },
  {
   "cell_type": "code",
   "execution_count": 57,
   "metadata": {},
   "outputs": [
    {
     "name": "stdout",
     "output_type": "stream",
     "text": [
      "WARNING:tensorflow:From c:\\Users\\User\\anaconda3\\envs\\Thesis\\lib\\site-packages\\keras\\src\\backend\\tensorflow\\core.py:204: The name tf.placeholder is deprecated. Please use tf.compat.v1.placeholder instead.\n",
      "\n"
     ]
    },
    {
     "name": "stderr",
     "output_type": "stream",
     "text": [
      "c:\\Users\\User\\anaconda3\\envs\\Thesis\\lib\\site-packages\\keras\\src\\layers\\core\\lambda_layer.py:65: UserWarning: Do not pass an `input_shape`/`input_dim` argument to a layer. When using Sequential models, prefer using an `Input(shape)` object as the first layer in the model instead.\n",
      "  super().__init__(**kwargs)\n"
     ]
    }
   ],
   "source": [
    "# hhp_net(mean=mean_uncertainty_in_dataset, std=std_uncertainty_in_dataset,  alpha=1)\n",
    "posenet_head_old = hhp_net_all_points(mean_uncertainty_in_dataset, std_uncertainty_in_dataset, a = 15, alpha=1)"
   ]
  },
  {
   "cell_type": "code",
   "execution_count": 58,
   "metadata": {},
   "outputs": [],
   "source": [
    "     \n",
    "lr_schedule = keras.optimizers.schedules.ExponentialDecay(\n",
    "        initial_learning_rate=0.001,\n",
    "        decay_steps=1000, # new\n",
    "        decay_rate=0.5,\n",
    "        staircase=True)\n",
    "\n",
    "\n",
    "posenet_head_old.compile(\n",
    "                optimizer=keras.optimizers.Adam(learning_rate=lr_schedule),  # Optimizer\n",
    "                # Loss function to minimize\n",
    "                loss=[Mse_loss_single_output_with_uncertainty(), Mse_loss_single_output_with_uncertainty(),\n",
    "                      Mse_loss_single_output_with_uncertainty()],\n",
    "                # List of metrics to monitor\n",
    "                # metrics=[keras.metrics.MeanSquaredError()],\n",
    "                metrics={'yaw'  : [Mean_Absolute_Error_HPE(), Save_Uncertainty_deg(), Angle_accuracy()],\n",
    "                         'pitch': [Mean_Absolute_Error_HPE(), Save_Uncertainty_deg(), Angle_accuracy()],\n",
    "                         'roll' : [Mean_Absolute_Error_HPE(), Save_Uncertainty_deg(), Angle_accuracy()]},\n",
    "                # metrics = {'yaw': keras.metrics.MeanSquaredError(), 'pitch': keras.metrics.MeanSquaredError(), 'roll': keras.metrics.MeanSquaredError()},\n",
    "        )\n",
    "\n",
    "#posenet_head.summary()\n"
   ]
  },
  {
   "cell_type": "code",
   "execution_count": 59,
   "metadata": {},
   "outputs": [
    {
     "name": "stdout",
     "output_type": "stream",
     "text": [
      "Inputs shape: (128, 15, 1)\n",
      "Yaw shape: (128, 1)\n",
      "Pitch shape: (128, 1)\n",
      "Roll shape: (128, 1)\n",
      "{'input': <tf.Tensor: shape=(128, 15, 1), dtype=float32, numpy=\n",
      "array([[[ 0.        ],\n",
      "        [ 0.        ],\n",
      "        [ 0.        ],\n",
      "        ...,\n",
      "        [-1.        ],\n",
      "        [ 1.        ],\n",
      "        [ 1.        ]],\n",
      "\n",
      "       [[-0.1       ],\n",
      "        [ 0.78571427],\n",
      "        [ 1.        ],\n",
      "        ...,\n",
      "        [-0.9       ],\n",
      "        [ 0.42857143],\n",
      "        [ 1.        ]],\n",
      "\n",
      "       [[-0.03448276],\n",
      "        [ 0.11111111],\n",
      "        [ 1.        ],\n",
      "        ...,\n",
      "        [-0.8965517 ],\n",
      "        [ 0.6666667 ],\n",
      "        [ 1.        ]],\n",
      "\n",
      "       ...,\n",
      "\n",
      "       [[ 0.03773585],\n",
      "        [ 1.        ],\n",
      "        [ 1.        ],\n",
      "        ...,\n",
      "        [-1.        ],\n",
      "        [ 1.        ],\n",
      "        [ 1.        ]],\n",
      "\n",
      "       [[ 0.22950819],\n",
      "        [ 1.        ],\n",
      "        [ 1.        ],\n",
      "        ...,\n",
      "        [-1.        ],\n",
      "        [ 0.0625    ],\n",
      "        [ 1.        ]],\n",
      "\n",
      "       [[-0.02040816],\n",
      "        [ 0.6666667 ],\n",
      "        [ 1.        ],\n",
      "        ...,\n",
      "        [-0.93877554],\n",
      "        [ 0.6666667 ],\n",
      "        [ 1.        ]]], dtype=float32)>}\n",
      "{'yaw': <tf.Tensor: shape=(128, 1), dtype=float32, numpy=\n",
      "array([[-16.062954  ],\n",
      "       [ -3.29032   ],\n",
      "       [ -1.9629133 ],\n",
      "       [ -4.7897797 ],\n",
      "       [-35.010567  ],\n",
      "       [ -0.09055675],\n",
      "       [-44.864357  ],\n",
      "       [ -0.98997533],\n",
      "       [ 57.424744  ],\n",
      "       [ 30.833069  ],\n",
      "       [ -9.788373  ],\n",
      "       [ -2.1007614 ],\n",
      "       [ 16.466064  ],\n",
      "       [ 25.180384  ],\n",
      "       [ -6.07137   ],\n",
      "       [-17.691345  ],\n",
      "       [ -5.449253  ],\n",
      "       [ -1.575429  ],\n",
      "       [ 13.383591  ],\n",
      "       [  1.2314258 ],\n",
      "       [  3.046558  ],\n",
      "       [-12.637686  ],\n",
      "       [ -7.239304  ],\n",
      "       [  4.2147284 ],\n",
      "       [ -3.4919412 ],\n",
      "       [-10.697219  ],\n",
      "       [ 18.449718  ],\n",
      "       [ 22.155794  ],\n",
      "       [ 31.414484  ],\n",
      "       [-37.149723  ],\n",
      "       [ -8.096426  ],\n",
      "       [ 25.654177  ],\n",
      "       [  0.8721997 ],\n",
      "       [  5.73835   ],\n",
      "       [  3.0988588 ],\n",
      "       [  0.9291553 ],\n",
      "       [ -8.186915  ],\n",
      "       [ -5.8627076 ],\n",
      "       [ 11.474505  ],\n",
      "       [ -9.197787  ],\n",
      "       [-13.485757  ],\n",
      "       [-10.905084  ],\n",
      "       [-28.103046  ],\n",
      "       [-12.280361  ],\n",
      "       [ -9.326172  ],\n",
      "       [-11.5537195 ],\n",
      "       [ -2.9579515 ],\n",
      "       [ -2.301958  ],\n",
      "       [-10.425364  ],\n",
      "       [  6.4127955 ],\n",
      "       [ -3.1022553 ],\n",
      "       [ 10.008987  ],\n",
      "       [ -1.2243291 ],\n",
      "       [-17.957548  ],\n",
      "       [  2.6323645 ],\n",
      "       [ -4.412579  ],\n",
      "       [ -0.36795938],\n",
      "       [ -6.610065  ],\n",
      "       [  6.4190173 ],\n",
      "       [ -6.5704336 ],\n",
      "       [  2.6255963 ],\n",
      "       [-31.931696  ],\n",
      "       [-10.139297  ],\n",
      "       [ 17.430569  ],\n",
      "       [-26.107994  ],\n",
      "       [  7.912799  ],\n",
      "       [ -1.6540296 ],\n",
      "       [-16.21361   ],\n",
      "       [  1.7791003 ],\n",
      "       [  8.008084  ],\n",
      "       [ 12.227111  ],\n",
      "       [  3.7962928 ],\n",
      "       [-12.458701  ],\n",
      "       [  4.28022   ],\n",
      "       [  2.4598472 ],\n",
      "       [ 48.26059   ],\n",
      "       [  3.4584186 ],\n",
      "       [ -2.4475746 ],\n",
      "       [  0.8172129 ],\n",
      "       [-22.565403  ],\n",
      "       [-14.355881  ],\n",
      "       [ 13.4137    ],\n",
      "       [  7.769795  ],\n",
      "       [ 13.570916  ],\n",
      "       [ 10.10858   ],\n",
      "       [ -2.5246034 ],\n",
      "       [  6.8300996 ],\n",
      "       [ -9.828317  ],\n",
      "       [  5.7827296 ],\n",
      "       [ -8.65048   ],\n",
      "       [ 35.49189   ],\n",
      "       [ -4.531985  ],\n",
      "       [ 50.136986  ],\n",
      "       [ -0.510399  ],\n",
      "       [ -1.1916286 ],\n",
      "       [ -2.2129405 ],\n",
      "       [ -5.938665  ],\n",
      "       [ 22.764975  ],\n",
      "       [-12.534435  ],\n",
      "       [ 13.86742   ],\n",
      "       [ -1.4086297 ],\n",
      "       [ 13.427834  ],\n",
      "       [ -1.8202529 ],\n",
      "       [  9.832993  ],\n",
      "       [ -9.5535145 ],\n",
      "       [ -7.612235  ],\n",
      "       [ -3.939761  ],\n",
      "       [ 28.026163  ],\n",
      "       [ -7.9786777 ],\n",
      "       [ -7.318451  ],\n",
      "       [ -2.5641172 ],\n",
      "       [ 25.70125   ],\n",
      "       [ 11.337959  ],\n",
      "       [ -9.938706  ],\n",
      "       [ -0.60587937],\n",
      "       [ -6.8158393 ],\n",
      "       [ -6.3470693 ],\n",
      "       [ -3.4263053 ],\n",
      "       [ -4.1766496 ],\n",
      "       [ 19.57617   ],\n",
      "       [-12.67006   ],\n",
      "       [  3.7069936 ],\n",
      "       [ -6.778178  ],\n",
      "       [-18.700958  ],\n",
      "       [ 29.950396  ],\n",
      "       [  1.0608618 ],\n",
      "       [ 15.46393   ],\n",
      "       [  3.3908136 ]], dtype=float32)>, 'pitch': <tf.Tensor: shape=(128, 1), dtype=float32, numpy=\n",
      "array([[-7.8704149e-01],\n",
      "       [ 2.4362791e+00],\n",
      "       [-5.0657601e+00],\n",
      "       [-2.2835510e+00],\n",
      "       [-1.1258358e+00],\n",
      "       [ 1.4462942e+01],\n",
      "       [ 2.7147781e+01],\n",
      "       [ 6.0377359e+00],\n",
      "       [ 6.1974630e+00],\n",
      "       [ 8.4354067e+00],\n",
      "       [ 2.8254504e+00],\n",
      "       [ 1.2207144e+00],\n",
      "       [ 8.0471573e+00],\n",
      "       [ 3.7641442e-01],\n",
      "       [-1.0844703e+00],\n",
      "       [-4.6339664e+00],\n",
      "       [ 6.8511829e+00],\n",
      "       [-8.9174104e-01],\n",
      "       [-6.8668276e-01],\n",
      "       [-4.4668779e+00],\n",
      "       [ 4.6772313e+00],\n",
      "       [ 1.3719098e-01],\n",
      "       [-4.3898344e+00],\n",
      "       [-7.1962700e+00],\n",
      "       [ 1.0403636e+00],\n",
      "       [ 2.0806318e+01],\n",
      "       [ 1.5203751e+01],\n",
      "       [ 4.1154655e+01],\n",
      "       [-2.2165424e+01],\n",
      "       [ 6.0602200e-01],\n",
      "       [ 2.9850912e+00],\n",
      "       [ 6.3345375e+00],\n",
      "       [ 3.6204083e+00],\n",
      "       [ 1.0622666e+01],\n",
      "       [ 3.0691219e+01],\n",
      "       [ 3.5801129e+00],\n",
      "       [-2.0577359e+00],\n",
      "       [ 1.4903971e+00],\n",
      "       [ 8.4138174e+00],\n",
      "       [ 5.3525052e+00],\n",
      "       [-5.2906623e+00],\n",
      "       [ 3.7373741e+00],\n",
      "       [-2.0093193e+01],\n",
      "       [ 2.6317526e+01],\n",
      "       [-6.8588662e+00],\n",
      "       [ 2.2745871e+01],\n",
      "       [ 2.7816572e+00],\n",
      "       [-8.5381718e+00],\n",
      "       [-3.4222134e+01],\n",
      "       [ 1.6996335e+00],\n",
      "       [ 8.0013859e-01],\n",
      "       [-2.4008961e+01],\n",
      "       [-2.8253314e+00],\n",
      "       [ 2.7562177e+00],\n",
      "       [-6.7982554e-01],\n",
      "       [ 3.0757554e+00],\n",
      "       [-7.9355550e+00],\n",
      "       [-2.5387487e+01],\n",
      "       [-1.9655764e+00],\n",
      "       [ 1.1823311e-01],\n",
      "       [-9.4024124e+00],\n",
      "       [ 6.8880534e+00],\n",
      "       [ 6.7200689e+00],\n",
      "       [ 1.0239177e+01],\n",
      "       [-5.3028569e+00],\n",
      "       [ 8.2781547e-01],\n",
      "       [ 2.9686277e+00],\n",
      "       [-3.6284953e-02],\n",
      "       [-1.3922547e+00],\n",
      "       [ 1.1506097e+00],\n",
      "       [ 1.5137249e+00],\n",
      "       [-9.2150078e+00],\n",
      "       [ 4.6360459e+00],\n",
      "       [-2.7537888e-01],\n",
      "       [-1.4880905e+00],\n",
      "       [ 3.6683347e+00],\n",
      "       [-7.4182777e+00],\n",
      "       [ 8.0876780e+00],\n",
      "       [-8.2022715e-01],\n",
      "       [-1.1166884e+01],\n",
      "       [ 2.6941459e+00],\n",
      "       [-7.3790926e-01],\n",
      "       [-3.0007189e+01],\n",
      "       [ 8.2227421e+00],\n",
      "       [ 8.1060207e-01],\n",
      "       [ 1.1490704e+01],\n",
      "       [ 3.4984642e-01],\n",
      "       [ 4.4401026e+00],\n",
      "       [-7.3540455e-01],\n",
      "       [ 5.8419089e+00],\n",
      "       [ 7.5881264e+01],\n",
      "       [ 1.9647799e+01],\n",
      "       [ 1.1786497e+00],\n",
      "       [ 7.2209030e-01],\n",
      "       [-2.8163559e+00],\n",
      "       [-4.9708233e+00],\n",
      "       [-2.1100256e+00],\n",
      "       [ 7.7845263e+00],\n",
      "       [ 3.5264030e+00],\n",
      "       [-1.2672972e+01],\n",
      "       [ 1.0016859e+01],\n",
      "       [ 4.3365276e-01],\n",
      "       [-3.0679688e+00],\n",
      "       [-6.3555503e-01],\n",
      "       [-5.1370578e+00],\n",
      "       [ 1.6182924e+01],\n",
      "       [-4.1787543e+00],\n",
      "       [ 5.6490374e+00],\n",
      "       [ 1.1653048e+01],\n",
      "       [-1.1816878e+00],\n",
      "       [ 1.1700317e+00],\n",
      "       [-5.7397628e+00],\n",
      "       [ 4.0463432e+01],\n",
      "       [ 4.0122342e+00],\n",
      "       [ 3.2058969e+00],\n",
      "       [ 6.1097212e+00],\n",
      "       [ 6.5498823e-01],\n",
      "       [-6.8685427e+00],\n",
      "       [-5.0969081e+00],\n",
      "       [-9.8723650e+00],\n",
      "       [ 1.7164577e+01],\n",
      "       [-2.6375517e+01],\n",
      "       [-3.3031261e+00],\n",
      "       [ 5.9998984e+00],\n",
      "       [ 3.9882988e+01],\n",
      "       [ 5.6198463e+00],\n",
      "       [ 3.6236219e+00],\n",
      "       [ 2.0235035e+00]], dtype=float32)>, 'roll': <tf.Tensor: shape=(128, 1), dtype=float32, numpy=\n",
      "array([[   2.569171  ],\n",
      "       [   4.017613  ],\n",
      "       [   0.3037514 ],\n",
      "       [  10.1011715 ],\n",
      "       [   8.069867  ],\n",
      "       [ -10.264707  ],\n",
      "       [   9.128062  ],\n",
      "       [   6.2119985 ],\n",
      "       [ -10.885502  ],\n",
      "       [ -19.472124  ],\n",
      "       [   2.6420748 ],\n",
      "       [  -4.9843416 ],\n",
      "       [   8.597255  ],\n",
      "       [  -1.8085228 ],\n",
      "       [   1.2908978 ],\n",
      "       [   6.542371  ],\n",
      "       [   5.7751255 ],\n",
      "       [  -0.32705268],\n",
      "       [   5.351474  ],\n",
      "       [  -6.072474  ],\n",
      "       [ -36.511276  ],\n",
      "       [ -11.984166  ],\n",
      "       [ -49.52214   ],\n",
      "       [  23.081257  ],\n",
      "       [  -5.899479  ],\n",
      "       [  55.02777   ],\n",
      "       [   4.6014295 ],\n",
      "       [ -42.99247   ],\n",
      "       [  44.17574   ],\n",
      "       [ -24.527338  ],\n",
      "       [   9.373153  ],\n",
      "       [   0.981731  ],\n",
      "       [   1.3716829 ],\n",
      "       [  29.774727  ],\n",
      "       [ -68.30542   ],\n",
      "       [  -8.753694  ],\n",
      "       [  -2.1147094 ],\n",
      "       [   1.3737298 ],\n",
      "       [ -47.46105   ],\n",
      "       [   9.326634  ],\n",
      "       [ -32.851307  ],\n",
      "       [   6.539191  ],\n",
      "       [  65.48842   ],\n",
      "       [ -24.610256  ],\n",
      "       [ -32.879353  ],\n",
      "       [   7.2202363 ],\n",
      "       [  20.068512  ],\n",
      "       [   7.0487237 ],\n",
      "       [   2.9105244 ],\n",
      "       [   3.959422  ],\n",
      "       [   2.5406876 ],\n",
      "       [  18.19013   ],\n",
      "       [   2.4554162 ],\n",
      "       [  -9.406263  ],\n",
      "       [ -14.792359  ],\n",
      "       [  60.31868   ],\n",
      "       [ -12.708386  ],\n",
      "       [  30.143284  ],\n",
      "       [  -2.0363367 ],\n",
      "       [ -44.629425  ],\n",
      "       [  -0.719296  ],\n",
      "       [  27.440235  ],\n",
      "       [ -18.26817   ],\n",
      "       [ -17.182241  ],\n",
      "       [-112.23103   ],\n",
      "       [  -5.442989  ],\n",
      "       [   1.0521898 ],\n",
      "       [  -7.7539306 ],\n",
      "       [  -5.064902  ],\n",
      "       [  20.323618  ],\n",
      "       [   2.228019  ],\n",
      "       [   7.0918365 ],\n",
      "       [   8.053409  ],\n",
      "       [  11.225589  ],\n",
      "       [  -0.48239455],\n",
      "       [  -6.0160074 ],\n",
      "       [   5.1482    ],\n",
      "       [  -1.0190235 ],\n",
      "       [   0.20039469],\n",
      "       [  25.325342  ],\n",
      "       [ -12.912596  ],\n",
      "       [   1.6843033 ],\n",
      "       [  35.975193  ],\n",
      "       [ -20.306618  ],\n",
      "       [  18.971966  ],\n",
      "       [  26.171001  ],\n",
      "       [  17.125296  ],\n",
      "       [  21.010735  ],\n",
      "       [  -0.37949926],\n",
      "       [   7.995289  ],\n",
      "       [ -50.508736  ],\n",
      "       [ -14.974869  ],\n",
      "       [ -11.321085  ],\n",
      "       [  -7.954758  ],\n",
      "       [   2.2520218 ],\n",
      "       [   0.5343589 ],\n",
      "       [  -3.000343  ],\n",
      "       [  28.20119   ],\n",
      "       [  19.624334  ],\n",
      "       [   2.150755  ],\n",
      "       [ -48.995815  ],\n",
      "       [  22.13028   ],\n",
      "       [  -0.41812855],\n",
      "       [   2.2082832 ],\n",
      "       [ -21.451021  ],\n",
      "       [ -87.71111   ],\n",
      "       [  12.5557    ],\n",
      "       [  21.709942  ],\n",
      "       [   2.2207081 ],\n",
      "       [   1.8503901 ],\n",
      "       [   0.94586307],\n",
      "       [   8.778172  ],\n",
      "       [ -35.52372   ],\n",
      "       [   9.815488  ],\n",
      "       [  -6.0408497 ],\n",
      "       [   5.6598763 ],\n",
      "       [   4.123303  ],\n",
      "       [   0.73548293],\n",
      "       [ -22.423037  ],\n",
      "       [  -7.6988797 ],\n",
      "       [  60.60091   ],\n",
      "       [  -9.599822  ],\n",
      "       [ -16.282883  ],\n",
      "       [ -12.04358   ],\n",
      "       [ -23.687883  ],\n",
      "       [  -2.8731318 ],\n",
      "       [  16.847519  ],\n",
      "       [   2.601778  ]], dtype=float32)>}\n"
     ]
    },
    {
     "name": "stderr",
     "output_type": "stream",
     "text": [
      "c:\\Users\\User\\anaconda3\\envs\\Thesis\\lib\\site-packages\\keras\\src\\models\\functional.py:225: UserWarning: The structure of `inputs` doesn't match the expected structure: input. Received: the structure of inputs={'input': '*'}\n",
      "  warnings.warn(\n"
     ]
    }
   ],
   "source": [
    "for batch in train_dataset_posenet.take(1):\n",
    "    inputs, targets = batch\n",
    "    print(\"Inputs shape:\", inputs['input'].shape)  # (batch_size, 15, 1)\n",
    "    print(\"Yaw shape:\", targets['yaw'].shape)     # (batch_size,)\n",
    "    print(\"Pitch shape:\", targets['pitch'].shape) # (batch_size,)\n",
    "    print(\"Roll shape:\", targets['roll'].shape)   # (batch_size,)\n",
    "    print(inputs)\n",
    "    print(targets)\n",
    "\n",
    "\n",
    "\n",
    "train_dataset_posenet\n",
    "for sample_batch in train_dataset_posenet.take(1):\n",
    "    posenet_head_old(sample_batch[0])  # Pass input data only\n",
    "\n"
   ]
  },
  {
   "cell_type": "code",
   "execution_count": 61,
   "metadata": {},
   "outputs": [
    {
     "name": "stdout",
     "output_type": "stream",
     "text": [
      "Epoch 1/300\n",
      "\u001b[1m669/669\u001b[0m \u001b[32m━━━━━━━━━━━━━━━━━━━━\u001b[0m\u001b[37m\u001b[0m \u001b[1m4s\u001b[0m 6ms/step - loss: 2.3816 - pitch_MAE_hpe: 8.3349 - pitch_Save_UNC: 48.6158 - pitch_angle_accuracy: 0.8358 - pitch_loss: 0.8452 - roll_MAE_hpe: 15.9015 - roll_Save_UNC: 39.6237 - roll_angle_accuracy: 0.6637 - roll_loss: 0.8108 - yaw_MAE_hpe: 13.5701 - yaw_Save_UNC: 25.6476 - yaw_angle_accuracy: 0.6681 - yaw_loss: 0.7255 - val_loss: 2.3735 - val_pitch_MAE_hpe: 8.3505 - val_pitch_Save_UNC: 20.0000 - val_pitch_angle_accuracy: 0.8365 - val_pitch_loss: 0.8415 - val_roll_MAE_hpe: 15.9966 - val_roll_Save_UNC: 20.0000 - val_roll_angle_accuracy: 0.6622 - val_roll_loss: 0.8081 - val_yaw_MAE_hpe: 13.4329 - val_yaw_Save_UNC: 20.0000 - val_yaw_angle_accuracy: 0.6671 - val_yaw_loss: 0.7239\n",
      "Epoch 2/300\n",
      "\u001b[1m669/669\u001b[0m \u001b[32m━━━━━━━━━━━━━━━━━━━━\u001b[0m\u001b[37m\u001b[0m \u001b[1m4s\u001b[0m 6ms/step - loss: 2.3692 - pitch_MAE_hpe: 8.3231 - pitch_Save_UNC: 47.4368 - pitch_angle_accuracy: 0.8366 - pitch_loss: 0.8363 - roll_MAE_hpe: 15.8456 - roll_Save_UNC: 39.4726 - roll_angle_accuracy: 0.6644 - roll_loss: 0.8105 - yaw_MAE_hpe: 13.5620 - yaw_Save_UNC: 25.6252 - yaw_angle_accuracy: 0.6683 - yaw_loss: 0.7225 - val_loss: 2.3668 - val_pitch_MAE_hpe: 8.3498 - val_pitch_Save_UNC: 20.0000 - val_pitch_angle_accuracy: 0.8366 - val_pitch_loss: 0.8358 - val_roll_MAE_hpe: 15.9700 - val_roll_Save_UNC: 20.0000 - val_roll_angle_accuracy: 0.6626 - val_roll_loss: 0.8083 - val_yaw_MAE_hpe: 13.4311 - val_yaw_Save_UNC: 20.0000 - val_yaw_angle_accuracy: 0.6673 - val_yaw_loss: 0.7227\n",
      "Epoch 3/300\n",
      "\u001b[1m669/669\u001b[0m \u001b[32m━━━━━━━━━━━━━━━━━━━━\u001b[0m\u001b[37m\u001b[0m \u001b[1m4s\u001b[0m 6ms/step - loss: 2.3635 - pitch_MAE_hpe: 8.3293 - pitch_Save_UNC: 46.7107 - pitch_angle_accuracy: 0.8365 - pitch_loss: 0.8312 - roll_MAE_hpe: 15.8395 - roll_Save_UNC: 39.2463 - roll_angle_accuracy: 0.6643 - roll_loss: 0.8107 - yaw_MAE_hpe: 13.5649 - yaw_Save_UNC: 25.6677 - yaw_angle_accuracy: 0.6683 - yaw_loss: 0.7215 - val_loss: 2.3636 - val_pitch_MAE_hpe: 8.3497 - val_pitch_Save_UNC: 20.0000 - val_pitch_angle_accuracy: 0.8364 - val_pitch_loss: 0.8329 - val_roll_MAE_hpe: 15.9544 - val_roll_Save_UNC: 20.0000 - val_roll_angle_accuracy: 0.6628 - val_roll_loss: 0.8085 - val_yaw_MAE_hpe: 13.4322 - val_yaw_Save_UNC: 20.0000 - val_yaw_angle_accuracy: 0.6668 - val_yaw_loss: 0.7222\n",
      "Epoch 4/300\n",
      "\u001b[1m669/669\u001b[0m \u001b[32m━━━━━━━━━━━━━━━━━━━━\u001b[0m\u001b[37m\u001b[0m \u001b[1m4s\u001b[0m 6ms/step - loss: 2.3602 - pitch_MAE_hpe: 8.3269 - pitch_Save_UNC: 46.2549 - pitch_angle_accuracy: 0.8364 - pitch_loss: 0.8281 - roll_MAE_hpe: 15.8203 - roll_Save_UNC: 39.1135 - roll_angle_accuracy: 0.6647 - roll_loss: 0.8109 - yaw_MAE_hpe: 13.5706 - yaw_Save_UNC: 25.7447 - yaw_angle_accuracy: 0.6682 - yaw_loss: 0.7212 - val_loss: 2.3610 - val_pitch_MAE_hpe: 8.3495 - val_pitch_Save_UNC: 20.0000 - val_pitch_angle_accuracy: 0.8365 - val_pitch_loss: 0.8305 - val_roll_MAE_hpe: 15.9469 - val_roll_Save_UNC: 20.0000 - val_roll_angle_accuracy: 0.6631 - val_roll_loss: 0.8085 - val_yaw_MAE_hpe: 13.4325 - val_yaw_Save_UNC: 20.0000 - val_yaw_angle_accuracy: 0.6669 - val_yaw_loss: 0.7220\n",
      "Epoch 5/300\n",
      "\u001b[1m669/669\u001b[0m \u001b[32m━━━━━━━━━━━━━━━━━━━━\u001b[0m\u001b[37m\u001b[0m \u001b[1m4s\u001b[0m 6ms/step - loss: 2.3575 - pitch_MAE_hpe: 8.3245 - pitch_Save_UNC: 45.9781 - pitch_angle_accuracy: 0.8366 - pitch_loss: 0.8259 - roll_MAE_hpe: 15.8112 - roll_Save_UNC: 38.9999 - roll_angle_accuracy: 0.6650 - roll_loss: 0.8107 - yaw_MAE_hpe: 13.5678 - yaw_Save_UNC: 25.7526 - yaw_angle_accuracy: 0.6684 - yaw_loss: 0.7208 - val_loss: 2.3591 - val_pitch_MAE_hpe: 8.3495 - val_pitch_Save_UNC: 20.0000 - val_pitch_angle_accuracy: 0.8365 - val_pitch_loss: 0.8288 - val_roll_MAE_hpe: 15.9468 - val_roll_Save_UNC: 20.0000 - val_roll_angle_accuracy: 0.6631 - val_roll_loss: 0.8084 - val_yaw_MAE_hpe: 13.4332 - val_yaw_Save_UNC: 20.0000 - val_yaw_angle_accuracy: 0.6669 - val_yaw_loss: 0.7219\n",
      "Epoch 6/300\n",
      "\u001b[1m669/669\u001b[0m \u001b[32m━━━━━━━━━━━━━━━━━━━━\u001b[0m\u001b[37m\u001b[0m \u001b[1m4s\u001b[0m 5ms/step - loss: 2.3557 - pitch_MAE_hpe: 8.3228 - pitch_Save_UNC: 45.7857 - pitch_angle_accuracy: 0.8366 - pitch_loss: 0.8244 - roll_MAE_hpe: 15.8200 - roll_Save_UNC: 38.8736 - roll_angle_accuracy: 0.6650 - roll_loss: 0.8106 - yaw_MAE_hpe: 13.5689 - yaw_Save_UNC: 25.7640 - yaw_angle_accuracy: 0.6683 - yaw_loss: 0.7207 - val_loss: 2.3579 - val_pitch_MAE_hpe: 8.3494 - val_pitch_Save_UNC: 20.0000 - val_pitch_angle_accuracy: 0.8365 - val_pitch_loss: 0.8279 - val_roll_MAE_hpe: 15.9429 - val_roll_Save_UNC: 20.0000 - val_roll_angle_accuracy: 0.6631 - val_roll_loss: 0.8083 - val_yaw_MAE_hpe: 13.4341 - val_yaw_Save_UNC: 20.0000 - val_yaw_angle_accuracy: 0.6670 - val_yaw_loss: 0.7217\n",
      "Epoch 7/300\n",
      "\u001b[1m669/669\u001b[0m \u001b[32m━━━━━━━━━━━━━━━━━━━━\u001b[0m\u001b[37m\u001b[0m \u001b[1m4s\u001b[0m 6ms/step - loss: 2.3545 - pitch_MAE_hpe: 8.3283 - pitch_Save_UNC: 45.6682 - pitch_angle_accuracy: 0.8365 - pitch_loss: 0.8234 - roll_MAE_hpe: 15.8102 - roll_Save_UNC: 38.7882 - roll_angle_accuracy: 0.6650 - roll_loss: 0.8104 - yaw_MAE_hpe: 13.5679 - yaw_Save_UNC: 25.8167 - yaw_angle_accuracy: 0.6685 - yaw_loss: 0.7207 - val_loss: 2.3567 - val_pitch_MAE_hpe: 8.3493 - val_pitch_Save_UNC: 20.0000 - val_pitch_angle_accuracy: 0.8366 - val_pitch_loss: 0.8270 - val_roll_MAE_hpe: 15.9392 - val_roll_Save_UNC: 20.0000 - val_roll_angle_accuracy: 0.6630 - val_roll_loss: 0.8081 - val_yaw_MAE_hpe: 13.4340 - val_yaw_Save_UNC: 20.0000 - val_yaw_angle_accuracy: 0.6670 - val_yaw_loss: 0.7217\n",
      "Epoch 8/300\n",
      "\u001b[1m669/669\u001b[0m \u001b[32m━━━━━━━━━━━━━━━━━━━━\u001b[0m\u001b[37m\u001b[0m \u001b[1m4s\u001b[0m 6ms/step - loss: 2.3533 - pitch_MAE_hpe: 8.3253 - pitch_Save_UNC: 45.5378 - pitch_angle_accuracy: 0.8366 - pitch_loss: 0.8226 - roll_MAE_hpe: 15.8088 - roll_Save_UNC: 38.7314 - roll_angle_accuracy: 0.6651 - roll_loss: 0.8102 - yaw_MAE_hpe: 13.5670 - yaw_Save_UNC: 25.8186 - yaw_angle_accuracy: 0.6685 - yaw_loss: 0.7205 - val_loss: 2.3558 - val_pitch_MAE_hpe: 8.3493 - val_pitch_Save_UNC: 20.0000 - val_pitch_angle_accuracy: 0.8366 - val_pitch_loss: 0.8264 - val_roll_MAE_hpe: 15.9397 - val_roll_Save_UNC: 20.0000 - val_roll_angle_accuracy: 0.6629 - val_roll_loss: 0.8079 - val_yaw_MAE_hpe: 13.4348 - val_yaw_Save_UNC: 20.0000 - val_yaw_angle_accuracy: 0.6670 - val_yaw_loss: 0.7216\n",
      "Epoch 9/300\n",
      "\u001b[1m669/669\u001b[0m \u001b[32m━━━━━━━━━━━━━━━━━━━━\u001b[0m\u001b[37m\u001b[0m \u001b[1m4s\u001b[0m 6ms/step - loss: 2.3525 - pitch_MAE_hpe: 8.3278 - pitch_Save_UNC: 45.4919 - pitch_angle_accuracy: 0.8364 - pitch_loss: 0.8224 - roll_MAE_hpe: 15.8149 - roll_Save_UNC: 38.6750 - roll_angle_accuracy: 0.6648 - roll_loss: 0.8098 - yaw_MAE_hpe: 13.5622 - yaw_Save_UNC: 25.8034 - yaw_angle_accuracy: 0.6686 - yaw_loss: 0.7204 - val_loss: 2.3552 - val_pitch_MAE_hpe: 8.3493 - val_pitch_Save_UNC: 20.0000 - val_pitch_angle_accuracy: 0.8366 - val_pitch_loss: 0.8261 - val_roll_MAE_hpe: 15.9381 - val_roll_Save_UNC: 20.0000 - val_roll_angle_accuracy: 0.6630 - val_roll_loss: 0.8076 - val_yaw_MAE_hpe: 13.4353 - val_yaw_Save_UNC: 20.0000 - val_yaw_angle_accuracy: 0.6671 - val_yaw_loss: 0.7215\n",
      "Epoch 10/300\n",
      "\u001b[1m669/669\u001b[0m \u001b[32m━━━━━━━━━━━━━━━━━━━━\u001b[0m\u001b[37m\u001b[0m \u001b[1m4s\u001b[0m 6ms/step - loss: 2.3519 - pitch_MAE_hpe: 8.3206 - pitch_Save_UNC: 45.4822 - pitch_angle_accuracy: 0.8367 - pitch_loss: 0.8221 - roll_MAE_hpe: 15.8145 - roll_Save_UNC: 38.6086 - roll_angle_accuracy: 0.6650 - roll_loss: 0.8097 - yaw_MAE_hpe: 13.5665 - yaw_Save_UNC: 25.8459 - yaw_angle_accuracy: 0.6684 - yaw_loss: 0.7201 - val_loss: 2.3547 - val_pitch_MAE_hpe: 8.3493 - val_pitch_Save_UNC: 20.0000 - val_pitch_angle_accuracy: 0.8366 - val_pitch_loss: 0.8258 - val_roll_MAE_hpe: 15.9361 - val_roll_Save_UNC: 20.0000 - val_roll_angle_accuracy: 0.6631 - val_roll_loss: 0.8075 - val_yaw_MAE_hpe: 13.4355 - val_yaw_Save_UNC: 20.0000 - val_yaw_angle_accuracy: 0.6671 - val_yaw_loss: 0.7214\n",
      "Epoch 11/300\n",
      "\u001b[1m669/669\u001b[0m \u001b[32m━━━━━━━━━━━━━━━━━━━━\u001b[0m\u001b[37m\u001b[0m \u001b[1m4s\u001b[0m 6ms/step - loss: 2.3515 - pitch_MAE_hpe: 8.3255 - pitch_Save_UNC: 45.4273 - pitch_angle_accuracy: 0.8364 - pitch_loss: 0.8217 - roll_MAE_hpe: 15.8017 - roll_Save_UNC: 38.5628 - roll_angle_accuracy: 0.6652 - roll_loss: 0.8096 - yaw_MAE_hpe: 13.5656 - yaw_Save_UNC: 25.8316 - yaw_angle_accuracy: 0.6686 - yaw_loss: 0.7202 - val_loss: 2.3544 - val_pitch_MAE_hpe: 8.3494 - val_pitch_Save_UNC: 20.0000 - val_pitch_angle_accuracy: 0.8366 - val_pitch_loss: 0.8257 - val_roll_MAE_hpe: 15.9359 - val_roll_Save_UNC: 20.0000 - val_roll_angle_accuracy: 0.6632 - val_roll_loss: 0.8074 - val_yaw_MAE_hpe: 13.4357 - val_yaw_Save_UNC: 20.0000 - val_yaw_angle_accuracy: 0.6671 - val_yaw_loss: 0.7214\n",
      "Epoch 12/300\n",
      "\u001b[1m669/669\u001b[0m \u001b[32m━━━━━━━━━━━━━━━━━━━━\u001b[0m\u001b[37m\u001b[0m \u001b[1m4s\u001b[0m 6ms/step - loss: 2.3515 - pitch_MAE_hpe: 8.3267 - pitch_Save_UNC: 45.4116 - pitch_angle_accuracy: 0.8365 - pitch_loss: 0.8218 - roll_MAE_hpe: 15.8185 - roll_Save_UNC: 38.5650 - roll_angle_accuracy: 0.6648 - roll_loss: 0.8095 - yaw_MAE_hpe: 13.5688 - yaw_Save_UNC: 25.8085 - yaw_angle_accuracy: 0.6685 - yaw_loss: 0.7202 - val_loss: 2.3542 - val_pitch_MAE_hpe: 8.3494 - val_pitch_Save_UNC: 20.0000 - val_pitch_angle_accuracy: 0.8366 - val_pitch_loss: 0.8256 - val_roll_MAE_hpe: 15.9361 - val_roll_Save_UNC: 20.0000 - val_roll_angle_accuracy: 0.6631 - val_roll_loss: 0.8073 - val_yaw_MAE_hpe: 13.4359 - val_yaw_Save_UNC: 20.0000 - val_yaw_angle_accuracy: 0.6672 - val_yaw_loss: 0.7213\n",
      "Epoch 13/300\n",
      "\u001b[1m669/669\u001b[0m \u001b[32m━━━━━━━━━━━━━━━━━━━━\u001b[0m\u001b[37m\u001b[0m \u001b[1m4s\u001b[0m 6ms/step - loss: 2.3511 - pitch_MAE_hpe: 8.3273 - pitch_Save_UNC: 45.4203 - pitch_angle_accuracy: 0.8363 - pitch_loss: 0.8216 - roll_MAE_hpe: 15.8154 - roll_Save_UNC: 38.5356 - roll_angle_accuracy: 0.6650 - roll_loss: 0.8094 - yaw_MAE_hpe: 13.5660 - yaw_Save_UNC: 25.8435 - yaw_angle_accuracy: 0.6687 - yaw_loss: 0.7201 - val_loss: 2.3540 - val_pitch_MAE_hpe: 8.3494 - val_pitch_Save_UNC: 20.0000 - val_pitch_angle_accuracy: 0.8366 - val_pitch_loss: 0.8255 - val_roll_MAE_hpe: 15.9356 - val_roll_Save_UNC: 20.0000 - val_roll_angle_accuracy: 0.6632 - val_roll_loss: 0.8072 - val_yaw_MAE_hpe: 13.4360 - val_yaw_Save_UNC: 20.0000 - val_yaw_angle_accuracy: 0.6672 - val_yaw_loss: 0.7213\n",
      "Epoch 14/300\n",
      "\u001b[1m669/669\u001b[0m \u001b[32m━━━━━━━━━━━━━━━━━━━━\u001b[0m\u001b[37m\u001b[0m \u001b[1m4s\u001b[0m 6ms/step - loss: 2.3508 - pitch_MAE_hpe: 8.3245 - pitch_Save_UNC: 45.3910 - pitch_angle_accuracy: 0.8366 - pitch_loss: 0.8215 - roll_MAE_hpe: 15.8076 - roll_Save_UNC: 38.4850 - roll_angle_accuracy: 0.6651 - roll_loss: 0.8093 - yaw_MAE_hpe: 13.5649 - yaw_Save_UNC: 25.8280 - yaw_angle_accuracy: 0.6686 - yaw_loss: 0.7201 - val_loss: 2.3539 - val_pitch_MAE_hpe: 8.3494 - val_pitch_Save_UNC: 20.0000 - val_pitch_angle_accuracy: 0.8365 - val_pitch_loss: 0.8255 - val_roll_MAE_hpe: 15.9354 - val_roll_Save_UNC: 20.0000 - val_roll_angle_accuracy: 0.6632 - val_roll_loss: 0.8072 - val_yaw_MAE_hpe: 13.4361 - val_yaw_Save_UNC: 20.0000 - val_yaw_angle_accuracy: 0.6672 - val_yaw_loss: 0.7213\n",
      "Epoch 15/300\n",
      "\u001b[1m669/669\u001b[0m \u001b[32m━━━━━━━━━━━━━━━━━━━━\u001b[0m\u001b[37m\u001b[0m \u001b[1m4s\u001b[0m 6ms/step - loss: 2.3511 - pitch_MAE_hpe: 8.3297 - pitch_Save_UNC: 45.3700 - pitch_angle_accuracy: 0.8364 - pitch_loss: 0.8216 - roll_MAE_hpe: 15.8165 - roll_Save_UNC: 38.4806 - roll_angle_accuracy: 0.6648 - roll_loss: 0.8093 - yaw_MAE_hpe: 13.5706 - yaw_Save_UNC: 25.8146 - yaw_angle_accuracy: 0.6683 - yaw_loss: 0.7202 - val_loss: 2.3539 - val_pitch_MAE_hpe: 8.3494 - val_pitch_Save_UNC: 20.0000 - val_pitch_angle_accuracy: 0.8365 - val_pitch_loss: 0.8254 - val_roll_MAE_hpe: 15.9355 - val_roll_Save_UNC: 20.0000 - val_roll_angle_accuracy: 0.6632 - val_roll_loss: 0.8071 - val_yaw_MAE_hpe: 13.4362 - val_yaw_Save_UNC: 20.0000 - val_yaw_angle_accuracy: 0.6672 - val_yaw_loss: 0.7213\n",
      "Epoch 16/300\n",
      "\u001b[1m669/669\u001b[0m \u001b[32m━━━━━━━━━━━━━━━━━━━━\u001b[0m\u001b[37m\u001b[0m \u001b[1m4s\u001b[0m 6ms/step - loss: 2.3507 - pitch_MAE_hpe: 8.3238 - pitch_Save_UNC: 45.3692 - pitch_angle_accuracy: 0.8366 - pitch_loss: 0.8214 - roll_MAE_hpe: 15.8148 - roll_Save_UNC: 38.4789 - roll_angle_accuracy: 0.6650 - roll_loss: 0.8092 - yaw_MAE_hpe: 13.5644 - yaw_Save_UNC: 25.8248 - yaw_angle_accuracy: 0.6684 - yaw_loss: 0.7201 - val_loss: 2.3538 - val_pitch_MAE_hpe: 8.3494 - val_pitch_Save_UNC: 20.0000 - val_pitch_angle_accuracy: 0.8365 - val_pitch_loss: 0.8254 - val_roll_MAE_hpe: 15.9355 - val_roll_Save_UNC: 20.0000 - val_roll_angle_accuracy: 0.6632 - val_roll_loss: 0.8071 - val_yaw_MAE_hpe: 13.4362 - val_yaw_Save_UNC: 20.0000 - val_yaw_angle_accuracy: 0.6672 - val_yaw_loss: 0.7213\n",
      "Epoch 17/300\n",
      "\u001b[1m669/669\u001b[0m \u001b[32m━━━━━━━━━━━━━━━━━━━━\u001b[0m\u001b[37m\u001b[0m \u001b[1m4s\u001b[0m 6ms/step - loss: 2.3505 - pitch_MAE_hpe: 8.3252 - pitch_Save_UNC: 45.3699 - pitch_angle_accuracy: 0.8365 - pitch_loss: 0.8213 - roll_MAE_hpe: 15.8019 - roll_Save_UNC: 38.4689 - roll_angle_accuracy: 0.6652 - roll_loss: 0.8092 - yaw_MAE_hpe: 13.5642 - yaw_Save_UNC: 25.8275 - yaw_angle_accuracy: 0.6685 - yaw_loss: 0.7200 - val_loss: 2.3538 - val_pitch_MAE_hpe: 8.3494 - val_pitch_Save_UNC: 20.0000 - val_pitch_angle_accuracy: 0.8365 - val_pitch_loss: 0.8254 - val_roll_MAE_hpe: 15.9354 - val_roll_Save_UNC: 20.0000 - val_roll_angle_accuracy: 0.6632 - val_roll_loss: 0.8071 - val_yaw_MAE_hpe: 13.4362 - val_yaw_Save_UNC: 20.0000 - val_yaw_angle_accuracy: 0.6672 - val_yaw_loss: 0.7213\n",
      "Epoch 18/300\n",
      "\u001b[1m669/669\u001b[0m \u001b[32m━━━━━━━━━━━━━━━━━━━━\u001b[0m\u001b[37m\u001b[0m \u001b[1m4s\u001b[0m 6ms/step - loss: 2.3507 - pitch_MAE_hpe: 8.3260 - pitch_Save_UNC: 45.3509 - pitch_angle_accuracy: 0.8364 - pitch_loss: 0.8213 - roll_MAE_hpe: 15.8047 - roll_Save_UNC: 38.4537 - roll_angle_accuracy: 0.6652 - roll_loss: 0.8092 - yaw_MAE_hpe: 13.5671 - yaw_Save_UNC: 25.8183 - yaw_angle_accuracy: 0.6685 - yaw_loss: 0.7201 - val_loss: 2.3538 - val_pitch_MAE_hpe: 8.3494 - val_pitch_Save_UNC: 20.0000 - val_pitch_angle_accuracy: 0.8365 - val_pitch_loss: 0.8254 - val_roll_MAE_hpe: 15.9354 - val_roll_Save_UNC: 20.0000 - val_roll_angle_accuracy: 0.6632 - val_roll_loss: 0.8071 - val_yaw_MAE_hpe: 13.4362 - val_yaw_Save_UNC: 20.0000 - val_yaw_angle_accuracy: 0.6672 - val_yaw_loss: 0.7213\n",
      "Epoch 19/300\n",
      "\u001b[1m669/669\u001b[0m \u001b[32m━━━━━━━━━━━━━━━━━━━━\u001b[0m\u001b[37m\u001b[0m \u001b[1m4s\u001b[0m 6ms/step - loss: 2.3507 - pitch_MAE_hpe: 8.3244 - pitch_Save_UNC: 45.3514 - pitch_angle_accuracy: 0.8366 - pitch_loss: 0.8214 - roll_MAE_hpe: 15.8105 - roll_Save_UNC: 38.4546 - roll_angle_accuracy: 0.6650 - roll_loss: 0.8093 - yaw_MAE_hpe: 13.5737 - yaw_Save_UNC: 25.8201 - yaw_angle_accuracy: 0.6681 - yaw_loss: 0.7201 - val_loss: 2.3538 - val_pitch_MAE_hpe: 8.3494 - val_pitch_Save_UNC: 20.0000 - val_pitch_angle_accuracy: 0.8365 - val_pitch_loss: 0.8254 - val_roll_MAE_hpe: 15.9354 - val_roll_Save_UNC: 20.0000 - val_roll_angle_accuracy: 0.6632 - val_roll_loss: 0.8071 - val_yaw_MAE_hpe: 13.4362 - val_yaw_Save_UNC: 20.0000 - val_yaw_angle_accuracy: 0.6672 - val_yaw_loss: 0.7213\n",
      "Epoch 20/300\n",
      "\u001b[1m669/669\u001b[0m \u001b[32m━━━━━━━━━━━━━━━━━━━━\u001b[0m\u001b[37m\u001b[0m \u001b[1m4s\u001b[0m 6ms/step - loss: 2.3506 - pitch_MAE_hpe: 8.3260 - pitch_Save_UNC: 45.3564 - pitch_angle_accuracy: 0.8365 - pitch_loss: 0.8214 - roll_MAE_hpe: 15.8165 - roll_Save_UNC: 38.4558 - roll_angle_accuracy: 0.6649 - roll_loss: 0.8092 - yaw_MAE_hpe: 13.5645 - yaw_Save_UNC: 25.8232 - yaw_angle_accuracy: 0.6685 - yaw_loss: 0.7201 - val_loss: 2.3538 - val_pitch_MAE_hpe: 8.3494 - val_pitch_Save_UNC: 20.0000 - val_pitch_angle_accuracy: 0.8365 - val_pitch_loss: 0.8254 - val_roll_MAE_hpe: 15.9354 - val_roll_Save_UNC: 20.0000 - val_roll_angle_accuracy: 0.6632 - val_roll_loss: 0.8071 - val_yaw_MAE_hpe: 13.4362 - val_yaw_Save_UNC: 20.0000 - val_yaw_angle_accuracy: 0.6672 - val_yaw_loss: 0.7213\n",
      "Epoch 21/300\n",
      "\u001b[1m669/669\u001b[0m \u001b[32m━━━━━━━━━━━━━━━━━━━━\u001b[0m\u001b[37m\u001b[0m \u001b[1m4s\u001b[0m 6ms/step - loss: 2.3506 - pitch_MAE_hpe: 8.3255 - pitch_Save_UNC: 45.3549 - pitch_angle_accuracy: 0.8365 - pitch_loss: 0.8213 - roll_MAE_hpe: 15.8062 - roll_Save_UNC: 38.4527 - roll_angle_accuracy: 0.6652 - roll_loss: 0.8092 - yaw_MAE_hpe: 13.5702 - yaw_Save_UNC: 25.8224 - yaw_angle_accuracy: 0.6683 - yaw_loss: 0.7201 - val_loss: 2.3538 - val_pitch_MAE_hpe: 8.3494 - val_pitch_Save_UNC: 20.0000 - val_pitch_angle_accuracy: 0.8365 - val_pitch_loss: 0.8254 - val_roll_MAE_hpe: 15.9354 - val_roll_Save_UNC: 20.0000 - val_roll_angle_accuracy: 0.6632 - val_roll_loss: 0.8071 - val_yaw_MAE_hpe: 13.4362 - val_yaw_Save_UNC: 20.0000 - val_yaw_angle_accuracy: 0.6672 - val_yaw_loss: 0.7213\n",
      "Epoch 22/300\n",
      "\u001b[1m669/669\u001b[0m \u001b[32m━━━━━━━━━━━━━━━━━━━━\u001b[0m\u001b[37m\u001b[0m \u001b[1m4s\u001b[0m 6ms/step - loss: 2.3508 - pitch_MAE_hpe: 8.3264 - pitch_Save_UNC: 45.3488 - pitch_angle_accuracy: 0.8364 - pitch_loss: 0.8215 - roll_MAE_hpe: 15.8131 - roll_Save_UNC: 38.4496 - roll_angle_accuracy: 0.6650 - roll_loss: 0.8092 - yaw_MAE_hpe: 13.5696 - yaw_Save_UNC: 25.8198 - yaw_angle_accuracy: 0.6683 - yaw_loss: 0.7201 - val_loss: 2.3538 - val_pitch_MAE_hpe: 8.3494 - val_pitch_Save_UNC: 20.0000 - val_pitch_angle_accuracy: 0.8365 - val_pitch_loss: 0.8254 - val_roll_MAE_hpe: 15.9354 - val_roll_Save_UNC: 20.0000 - val_roll_angle_accuracy: 0.6632 - val_roll_loss: 0.8071 - val_yaw_MAE_hpe: 13.4362 - val_yaw_Save_UNC: 20.0000 - val_yaw_angle_accuracy: 0.6672 - val_yaw_loss: 0.7213\n",
      "Epoch 23/300\n",
      "\u001b[1m669/669\u001b[0m \u001b[32m━━━━━━━━━━━━━━━━━━━━\u001b[0m\u001b[37m\u001b[0m \u001b[1m4s\u001b[0m 6ms/step - loss: 2.3507 - pitch_MAE_hpe: 8.3245 - pitch_Save_UNC: 45.3578 - pitch_angle_accuracy: 0.8366 - pitch_loss: 0.8215 - roll_MAE_hpe: 15.8171 - roll_Save_UNC: 38.4542 - roll_angle_accuracy: 0.6648 - roll_loss: 0.8092 - yaw_MAE_hpe: 13.5670 - yaw_Save_UNC: 25.8239 - yaw_angle_accuracy: 0.6684 - yaw_loss: 0.7200 - val_loss: 2.3538 - val_pitch_MAE_hpe: 8.3494 - val_pitch_Save_UNC: 20.0000 - val_pitch_angle_accuracy: 0.8365 - val_pitch_loss: 0.8254 - val_roll_MAE_hpe: 15.9354 - val_roll_Save_UNC: 20.0000 - val_roll_angle_accuracy: 0.6632 - val_roll_loss: 0.8071 - val_yaw_MAE_hpe: 13.4362 - val_yaw_Save_UNC: 20.0000 - val_yaw_angle_accuracy: 0.6672 - val_yaw_loss: 0.7213\n",
      "Epoch 24/300\n",
      "\u001b[1m669/669\u001b[0m \u001b[32m━━━━━━━━━━━━━━━━━━━━\u001b[0m\u001b[37m\u001b[0m \u001b[1m4s\u001b[0m 6ms/step - loss: 2.3503 - pitch_MAE_hpe: 8.3226 - pitch_Save_UNC: 45.3500 - pitch_angle_accuracy: 0.8367 - pitch_loss: 0.8212 - roll_MAE_hpe: 15.8012 - roll_Save_UNC: 38.4481 - roll_angle_accuracy: 0.6653 - roll_loss: 0.8091 - yaw_MAE_hpe: 13.5649 - yaw_Save_UNC: 25.8201 - yaw_angle_accuracy: 0.6685 - yaw_loss: 0.7199 - val_loss: 2.3538 - val_pitch_MAE_hpe: 8.3494 - val_pitch_Save_UNC: 20.0000 - val_pitch_angle_accuracy: 0.8365 - val_pitch_loss: 0.8254 - val_roll_MAE_hpe: 15.9354 - val_roll_Save_UNC: 20.0000 - val_roll_angle_accuracy: 0.6632 - val_roll_loss: 0.8071 - val_yaw_MAE_hpe: 13.4363 - val_yaw_Save_UNC: 20.0000 - val_yaw_angle_accuracy: 0.6672 - val_yaw_loss: 0.7213\n",
      "Epoch 25/300\n",
      "\u001b[1m669/669\u001b[0m \u001b[32m━━━━━━━━━━━━━━━━━━━━\u001b[0m\u001b[37m\u001b[0m \u001b[1m4s\u001b[0m 6ms/step - loss: 2.3508 - pitch_MAE_hpe: 8.3284 - pitch_Save_UNC: 45.3540 - pitch_angle_accuracy: 0.8364 - pitch_loss: 0.8214 - roll_MAE_hpe: 15.8132 - roll_Save_UNC: 38.4514 - roll_angle_accuracy: 0.6649 - roll_loss: 0.8092 - yaw_MAE_hpe: 13.5701 - yaw_Save_UNC: 25.8224 - yaw_angle_accuracy: 0.6682 - yaw_loss: 0.7201 - val_loss: 2.3538 - val_pitch_MAE_hpe: 8.3494 - val_pitch_Save_UNC: 20.0000 - val_pitch_angle_accuracy: 0.8365 - val_pitch_loss: 0.8254 - val_roll_MAE_hpe: 15.9354 - val_roll_Save_UNC: 20.0000 - val_roll_angle_accuracy: 0.6632 - val_roll_loss: 0.8071 - val_yaw_MAE_hpe: 13.4363 - val_yaw_Save_UNC: 20.0000 - val_yaw_angle_accuracy: 0.6672 - val_yaw_loss: 0.7213\n",
      "Epoch 25: early stopping\n"
     ]
    }
   ],
   "source": [
    "\n",
    "EPOCHS = 300\n",
    "history = posenet_head_old.fit(train_dataset_posenet, epochs=EPOCHS,\n",
    "                               callbacks=[tensorboard_callback, early_stopping_callback], validation_data=val_dataset_posenet)\n"
   ]
  },
  {
   "cell_type": "code",
   "execution_count": 62,
   "metadata": {},
   "outputs": [
    {
     "name": "stdout",
     "output_type": "stream",
     "text": [
      "\u001b[1m 53/233\u001b[0m \u001b[32m━━━━\u001b[0m\u001b[37m━━━━━━━━━━━━━━━━\u001b[0m \u001b[1m0s\u001b[0m 2ms/step"
     ]
    },
    {
     "name": "stderr",
     "output_type": "stream",
     "text": [
      "c:\\Users\\User\\anaconda3\\envs\\Thesis\\lib\\site-packages\\keras\\src\\models\\functional.py:225: UserWarning: The structure of `inputs` doesn't match the expected structure: input. Received: the structure of inputs={'input': '*'}\n",
      "  warnings.warn(\n"
     ]
    },
    {
     "name": "stdout",
     "output_type": "stream",
     "text": [
      "\u001b[1m233/233\u001b[0m \u001b[32m━━━━━━━━━━━━━━━━━━━━\u001b[0m\u001b[37m\u001b[0m \u001b[1m1s\u001b[0m 2ms/step\n"
     ]
    }
   ],
   "source": [
    "test_prediction_old = posenet_head_old.predict(test_dataset_posenet)"
   ]
  },
  {
   "cell_type": "code",
   "execution_count": 63,
   "metadata": {},
   "outputs": [
    {
     "data": {
      "text/plain": [
       "<Axes: ylabel='Count'>"
      ]
     },
     "execution_count": 63,
     "metadata": {},
     "output_type": "execute_result"
    },
    {
     "data": {
      "image/png": "[encoded data removed]",
      "text/plain": [
       "<Figure size 640x480 with 1 Axes>"
      ]
     },
     "metadata": {},
     "output_type": "display_data"
    }
   ],
   "source": [
    "sns.histplot(test_prediction_old[0][:,0])"
   ]
  },
  {
   "cell_type": "code",
   "execution_count": 64,
   "metadata": {},
   "outputs": [
    {
     "data": {
      "text/plain": [
       "<Axes: ylabel='Count'>"
      ]
     },
     "execution_count": 64,
     "metadata": {},
     "output_type": "execute_result"
    },
    {
     "data": {
      "image/png": "[encoded data removed]",
      "text/plain": [
       "<Figure size 640x480 with 1 Axes>"
      ]
     },
     "metadata": {},
     "output_type": "display_data"
    }
   ],
   "source": [
    "\n",
    "\n",
    "sns.histplot(test_prediction_old[1][:,0])"
   ]
  },
  {
   "cell_type": "code",
   "execution_count": 65,
   "metadata": {},
   "outputs": [
    {
     "data": {
      "text/plain": [
       "<Axes: ylabel='Count'>"
      ]
     },
     "execution_count": 65,
     "metadata": {},
     "output_type": "execute_result"
    },
    {
     "data": {
      "image/png": "[encoded data removed]",
      "text/plain": [
       "<Figure size 640x480 with 1 Axes>"
      ]
     },
     "metadata": {},
     "output_type": "display_data"
    }
   ],
   "source": [
    "\n",
    "sns.histplot(test_prediction_old[2][:,0])"
   ]
  },
  {
   "cell_type": "code",
   "execution_count": null,
   "metadata": {},
   "outputs": [],
   "source": []
  }
 ],
 "metadata": {
  "kernelspec": {
   "display_name": "Thesis",
   "language": "python",
   "name": "python3"
  },
  "language_info": {
   "codemirror_mode": {
    "name": "ipython",
    "version": 3
   },
   "file_extension": ".py",
   "mimetype": "text/x-python",
   "name": "python",
   "nbconvert_exporter": "python",
   "pygments_lexer": "ipython3",
   "version": "3.9.19"
  }
 },
 "nbformat": 4,
 "nbformat_minor": 2
}
