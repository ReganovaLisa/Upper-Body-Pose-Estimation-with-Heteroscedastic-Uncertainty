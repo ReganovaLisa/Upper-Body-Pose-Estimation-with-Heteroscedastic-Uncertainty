{
 "cells": [
  {
   "cell_type": "code",
   "execution_count": 2,
   "metadata": {},
   "outputs": [
    {
     "name": "stdout",
     "output_type": "stream",
     "text": [
      "WARNING:tensorflow:From c:\\Users\\User\\anaconda3\\envs\\Thesis\\lib\\site-packages\\tf_keras\\src\\losses.py:2976: The name tf.losses.sparse_softmax_cross_entropy is deprecated. Please use tf.compat.v1.losses.sparse_softmax_cross_entropy instead.\n",
      "\n"
     ]
    }
   ],
   "source": [
    "# Import TF and TF Hub libraries.\n",
    "import tensorflow as tf\n",
    "import tensorflow_hub as hub"
   ]
  },
  {
   "cell_type": "code",
   "execution_count": null,
   "metadata": {},
   "outputs": [],
   "source": [
    "\n",
    "\n",
    "# Load the input image.\n",
    "image_path = r\"C:/Users/User/Desktop/General_fold/Thesis code/HHP-Net-Private/HHP-Net-Private/imgs/1.png\"\n",
    "image = tf.io.read_file(image_path)\n",
    "image = tf.compat.v1.image.decode_jpeg(image)\n",
    "image = tf.expand_dims(image, axis=0)\n",
    "# Resize and pad the image to keep the aspect ratio and fit the expected size.\n",
    "image = tf.cast(tf.image.resize_with_pad(image, 256, 256), dtype=tf.int32)\n",
    "\n",
    "\n",
    "# Download the model from TF Hub.\n",
    "model = hub.load(\"https://www.kaggle.com/models/google/movenet/TensorFlow2/singlepose-thunder/4\")\n",
    "movenet = model.signatures['serving_default']\n",
    "\n",
    "# Run model inference.\n",
    "outputs = movenet(image)\n",
    "# Output is a [1, 1, 17, 3] tensor.\n",
    "keypoints = outputs['output_0']\n"
   ]
  },
  {
   "cell_type": "code",
   "execution_count": null,
   "metadata": {},
   "outputs": [
    {
     "name": "stdout",
     "output_type": "stream",
     "text": [
      "WARNING:tensorflow:From c:\\Users\\User\\anaconda3\\envs\\Thesis\\lib\\site-packages\\tensorflow_hub\\resolver.py:120: The name tf.gfile.MakeDirs is deprecated. Please use tf.io.gfile.makedirs instead.\n",
      "\n"
     ]
    },
    {
     "name": "stderr",
     "output_type": "stream",
     "text": [
      "WARNING:tensorflow:From c:\\Users\\User\\anaconda3\\envs\\Thesis\\lib\\site-packages\\tensorflow_hub\\resolver.py:120: The name tf.gfile.MakeDirs is deprecated. Please use tf.io.gfile.makedirs instead.\n",
      "\n"
     ]
    },
    {
     "name": "stdout",
     "output_type": "stream",
     "text": [
      "WARNING:tensorflow:From c:\\Users\\User\\anaconda3\\envs\\Thesis\\lib\\site-packages\\tensorflow_hub\\module_v2.py:126: The name tf.saved_model.load_v2 is deprecated. Please use tf.compat.v2.saved_model.load instead.\n",
      "\n"
     ]
    },
    {
     "name": "stderr",
     "output_type": "stream",
     "text": [
      "WARNING:tensorflow:From c:\\Users\\User\\anaconda3\\envs\\Thesis\\lib\\site-packages\\tensorflow_hub\\module_v2.py:126: The name tf.saved_model.load_v2 is deprecated. Please use tf.compat.v2.saved_model.load instead.\n",
      "\n"
     ]
    }
   ],
   "source": []
  },
  {
   "cell_type": "code",
   "execution_count": 6,
   "metadata": {},
   "outputs": [
    {
     "data": {
      "text/plain": [
       "{'output_0': <tf.Tensor: shape=(1, 1, 17, 3), dtype=float32, numpy=\n",
       " array([[[[0.49302933, 0.5994846 , 0.6164533 ],\n",
       "          [0.46903756, 0.63503706, 0.41868463],\n",
       "          [0.46657345, 0.5952576 , 0.5128882 ],\n",
       "          [0.491509  , 0.7108746 , 0.8258268 ],\n",
       "          [0.4779667 , 0.61397547, 0.27380136],\n",
       "          [0.67533416, 0.798098  , 0.6793044 ],\n",
       "          [0.6672993 , 0.5713731 , 0.71447814],\n",
       "          [0.91747344, 0.8059572 , 0.09377122],\n",
       "          [0.8944976 , 0.5486443 , 0.19038695],\n",
       "          [0.8020529 , 0.20210654, 0.12887429],\n",
       "          [0.8040167 , 0.1986379 , 0.06331864],\n",
       "          [1.0140074 , 0.71402174, 0.09071886],\n",
       "          [1.0045652 , 0.5858158 , 0.11480135],\n",
       "          [0.9148049 , 0.8453067 , 0.03222585],\n",
       "          [0.6793179 , 0.5727484 , 0.00900854],\n",
       "          [0.9845637 , 0.961337  , 0.03076796],\n",
       "          [0.95929056, 0.99537146, 0.02826555]]]], dtype=float32)>}"
      ]
     },
     "execution_count": 6,
     "metadata": {},
     "output_type": "execute_result"
    }
   ],
   "source": [
    "outputs"
   ]
  },
  {
   "cell_type": "code",
   "execution_count": 5,
   "metadata": {},
   "outputs": [
    {
     "data": {
      "text/plain": [
       "<tf.Tensor: shape=(1, 1, 17, 3), dtype=float32, numpy=\n",
       "array([[[[0.49302933, 0.5994846 , 0.6164533 ],\n",
       "         [0.46903756, 0.63503706, 0.41868463],\n",
       "         [0.46657345, 0.5952576 , 0.5128882 ],\n",
       "         [0.491509  , 0.7108746 , 0.8258268 ],\n",
       "         [0.4779667 , 0.61397547, 0.27380136],\n",
       "         [0.67533416, 0.798098  , 0.6793044 ],\n",
       "         [0.6672993 , 0.5713731 , 0.71447814],\n",
       "         [0.91747344, 0.8059572 , 0.09377122],\n",
       "         [0.8944976 , 0.5486443 , 0.19038695],\n",
       "         [0.8020529 , 0.20210654, 0.12887429],\n",
       "         [0.8040167 , 0.1986379 , 0.06331864],\n",
       "         [1.0140074 , 0.71402174, 0.09071886],\n",
       "         [1.0045652 , 0.5858158 , 0.11480135],\n",
       "         [0.9148049 , 0.8453067 , 0.03222585],\n",
       "         [0.6793179 , 0.5727484 , 0.00900854],\n",
       "         [0.9845637 , 0.961337  , 0.03076796],\n",
       "         [0.95929056, 0.99537146, 0.02826555]]]], dtype=float32)>"
      ]
     },
     "execution_count": 5,
     "metadata": {},
     "output_type": "execute_result"
    }
   ],
   "source": [
    "keypoints"
   ]
  },
  {
   "cell_type": "code",
   "execution_count": null,
   "metadata": {},
   "outputs": [],
   "source": []
  }
 ],
 "metadata": {
  "kernelspec": {
   "display_name": "Thesis",
   "language": "python",
   "name": "python3"
  },
  "language_info": {
   "codemirror_mode": {
    "name": "ipython",
    "version": 3
   },
   "file_extension": ".py",
   "mimetype": "text/x-python",
   "name": "python",
   "nbconvert_exporter": "python",
   "pygments_lexer": "ipython3",
   "version": "3.9.19"
  }
 },
 "nbformat": 4,
 "nbformat_minor": 2
}
